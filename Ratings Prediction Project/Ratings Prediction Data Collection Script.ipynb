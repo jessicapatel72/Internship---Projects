{
 "cells": [
  {
   "cell_type": "markdown",
   "id": "145c7395",
   "metadata": {},
   "source": [
    "# Ratings Prediction"
   ]
  },
  {
   "cell_type": "markdown",
   "id": "c4c77de2",
   "metadata": {},
   "source": [
    "We have a client who has a website where people write different reviews for technical products. Now they are adding a new feature to their website i.e. The reviewer will have to add stars(rating) as well with the review. The rating is out 5 stars and it only has 5 options available 1 star, 2 stars, 3 stars, 4 stars, 5 stars. Now they want to predict ratings for the reviews which were written in the past and they don’t have a rating. So, we have to build an application which can predict the rating by seeing the review."
   ]
  },
  {
   "cell_type": "markdown",
   "id": "424f5f8e",
   "metadata": {},
   "source": [
    "## Data Collection Phase:"
   ]
  },
  {
   "cell_type": "markdown",
   "id": "9098b1c3",
   "metadata": {},
   "source": [
    "You have to scrape at least 20000 rows of data. You can scrape more data as well, it’s up to you. more the data better the model.\n",
    "\n",
    "In this section you need to scrape the reviews of different laptops, Phones, Headphones, smart watches, Professional Cameras, Printers, Monitors, Home theater, Router from different ecommerce websites. Basically, we need these columns 1) reviews of the product. 2) rating of the product. You can fetch other data as well, if you think data can be useful or can help in the project. It completely depends on your imagination or assumption."
   ]
  },
  {
   "cell_type": "code",
   "execution_count": 1,
   "id": "2d9a0bdb",
   "metadata": {},
   "outputs": [],
   "source": [
    "## importing the libraries:\n",
    "import selenium\n",
    "from selenium import webdriver\n",
    "import pandas as pd\n",
    "import numpy as np\n",
    "import time\n",
    "\n",
    "import re\n",
    "\n",
    "## importing require exceptions:-\n",
    "from selenium.common.exceptions import NoSuchElementException, StaleElementReferenceException,WebDriverException \n",
    "from selenium.webdriver.common.keys import Keys\n",
    "from selenium.webdriver.common.by import By\n",
    "from selenium.webdriver.support.ui import WebDriverWait\n",
    "from selenium.webdriver.common.action_chains import ActionChains\n",
    "\n",
    "import warnings\n",
    "warnings.filterwarnings('ignore')"
   ]
  },
  {
   "cell_type": "code",
   "execution_count": 2,
   "id": "911bc890",
   "metadata": {},
   "outputs": [
    {
     "data": {
      "text/plain": [
       "<selenium.webdriver.chrome.webdriver.WebDriver (session=\"0e78b9b7bf639cd329e69f5e8197c1eb\")>"
      ]
     },
     "execution_count": 2,
     "metadata": {},
     "output_type": "execute_result"
    }
   ],
   "source": [
    "driver=webdriver.Chrome('chromedriver.exe')\n",
    "driver.maximize_window()\n",
    "driver"
   ]
  },
  {
   "cell_type": "markdown",
   "id": "7cd9b7df",
   "metadata": {},
   "source": [
    "## Scraping from Flipkart.com\n"
   ]
  },
  {
   "cell_type": "code",
   "execution_count": 3,
   "id": "200377f3",
   "metadata": {},
   "outputs": [],
   "source": [
    "## fetching the websites\n",
    "driver.get(\"https://www.flipkart.com/\")\n",
    "time.sleep(2)\n",
    "\n",
    "#clicking on the pop-up Add's cancel button:- \n",
    "driver.find_element_by_xpath(\"//div[@class='_2QfC02']/button\").click()\n",
    "\n",
    "Item_List=['laptops','Smartphones','smart watches' ,'Computer moniters', \n",
    "                 'Digital Watches','Cameras','Trimmers','Keyboards']\n",
    "\n",
    "reviews=[]\n",
    "full_reviews=[]\n",
    "ratings=[]"
   ]
  },
  {
   "cell_type": "code",
   "execution_count": 4,
   "id": "234383ac",
   "metadata": {},
   "outputs": [
    {
     "name": "stdout",
     "output_type": "stream",
     "text": [
      "288\n"
     ]
    }
   ],
   "source": [
    "product_urls=[]\n",
    "for i in Item_List:\n",
    "    # Find the search bar\n",
    "    search_button = driver.find_element_by_xpath(\"//div[@class='_3OO5Xc']/input\")\n",
    "    search_button.clear()\n",
    "    search_button.send_keys(i)\n",
    "    #Clicking on the search button\n",
    "    driver.find_element_by_xpath(\"//button[@class='L0Z3Pu']\").click()\n",
    "    time.sleep(3)\n",
    "    \n",
    "    ## we will scrap atleast 2 pages product of each items\n",
    "    page_no_url = []\n",
    "    tag= driver.find_elements_by_xpath(\"//nav[@class='yFHi8N']/a\")\n",
    "    for i in tag:\n",
    "        page_no_url.append(i.get_attribute('href'))\n",
    "    for i in page_no_url[0:3]:\n",
    "        driver.get(i)\n",
    "        time.sleep(3)\n",
    "        \n",
    "        ## now appending all products urls from page 1 and page 2:\n",
    "        new_tag = driver.find_elements_by_xpath(\"//a[@class='_1fQZEK']\")\n",
    "        for i in new_tag:\n",
    "            product_urls.append(i.get_attribute('href'))\n",
    "print(len(product_urls))  "
   ]
  },
  {
   "cell_type": "markdown",
   "id": "a49dfc15",
   "metadata": {},
   "source": [
    "### Scapping all the reviews of every product:"
   ]
  },
  {
   "cell_type": "code",
   "execution_count": 6,
   "id": "84e7e50e",
   "metadata": {},
   "outputs": [
    {
     "data": {
      "text/plain": [
       "(3611, 3611, 3611)"
      ]
     },
     "execution_count": 6,
     "metadata": {},
     "output_type": "execute_result"
    }
   ],
   "source": [
    "## iterating all products urls one by one:\n",
    "for i in product_urls[:]:\n",
    "    driver.get(i)\n",
    "    time.sleep(2)\n",
    "    for _ in range(2):\n",
    "        ## moving cursor deep down on the page\n",
    "        driver.execute_script(\"window.scrollBy(0,6000)\")\n",
    "        time.sleep(1)\n",
    "        \n",
    "    # Clicking on \"see all the reviews\" button:\n",
    "    try:\n",
    "        tag=driver.find_element_by_xpath(\"//div[@class='_2c2kV-']/following::a\")\n",
    "        url = tag.get_attribute('href')\n",
    "        #fetching the url\n",
    "        driver.get(url)\n",
    "        time.sleep(1)\n",
    "    except NoSuchElementException:\n",
    "        pass\n",
    "    try:\n",
    "        tag=driver.find_elements_by_xpath(\"//div[@class='t-ZTKy']\")\n",
    "        for i in tag:\n",
    "            full_reviews.append(i.text)\n",
    "    except NoSuchElementException:\n",
    "        full_reviews.append('-')\n",
    "    try:\n",
    "        tag=driver.find_elements_by_xpath(\"//p[@class='_2-N8zT']\")\n",
    "        for i in tag:\n",
    "            reviews.append(i.text)\n",
    "    except NoSuchElementException:\n",
    "        reviews.append('-')\n",
    "    try:\n",
    "        tag=driver.find_elements_by_xpath(\"//p[@class='_2-N8zT']/../div\")\n",
    "        for i in tag:\n",
    "            ratings.append(i.text)\n",
    "    except NoSuchElementException:\n",
    "        ratings.append('-')\n",
    "               \n",
    "    try:\n",
    "        no_of_pages=driver.find_elements_by_xpath(\"//nav[@class='yFHi8N']/a\")\n",
    "        ListOfNP=[]\n",
    "        for i in no_of_page:\n",
    "            ListOfNP.append(i.get_attribute('href'))\n",
    "        for i in ListOfNP[0:15]:\n",
    "            driver.get(i)\n",
    "            time.sleep(1)\n",
    "            try:\n",
    "                tag=driver.find_elements_by_xpath(\"//div[@class='t-ZTKy']\")\n",
    "                for i in tag:\n",
    "                    full_reviews.append(i.text)\n",
    "            except NoSuchElementException:\n",
    "                full_reviews.append('-')\n",
    "            try:\n",
    "                tag=driver.find_elements_by_xpath(\"//p[@class='_2-N8zT']\")\n",
    "                for i in tag:\n",
    "                    reviews.append(i.text)\n",
    "            except NoSuchElementException:\n",
    "                reviews.append('-')\n",
    "            try:\n",
    "                tag=driver.find_elements_by_xpath(\"//p[@class='_2-N8zT']/../div\")\n",
    "                for i in tag:\n",
    "                    ratings.append(i.text)\n",
    "            except NoSuchElementException:\n",
    "                ratings.append('-')    \n",
    "    except: continue\n",
    "len(ratings), len(reviews), len(full_reviews)  "
   ]
  },
  {
   "cell_type": "code",
   "execution_count": 7,
   "id": "74a87135",
   "metadata": {},
   "outputs": [
    {
     "data": {
      "text/html": [
       "<div>\n",
       "<style scoped>\n",
       "    .dataframe tbody tr th:only-of-type {\n",
       "        vertical-align: middle;\n",
       "    }\n",
       "\n",
       "    .dataframe tbody tr th {\n",
       "        vertical-align: top;\n",
       "    }\n",
       "\n",
       "    .dataframe thead th {\n",
       "        text-align: right;\n",
       "    }\n",
       "</style>\n",
       "<table border=\"1\" class=\"dataframe\">\n",
       "  <thead>\n",
       "    <tr style=\"text-align: right;\">\n",
       "      <th></th>\n",
       "      <th>Ratings</th>\n",
       "      <th>Review_Text</th>\n",
       "      <th>Summary</th>\n",
       "    </tr>\n",
       "  </thead>\n",
       "  <tbody>\n",
       "    <tr>\n",
       "      <th>0</th>\n",
       "      <td>5</td>\n",
       "      <td>Amazing product in price range , good sound qu...</td>\n",
       "      <td>Fabulous!</td>\n",
       "    </tr>\n",
       "    <tr>\n",
       "      <th>1</th>\n",
       "      <td>3</td>\n",
       "      <td>Good</td>\n",
       "      <td>Nice</td>\n",
       "    </tr>\n",
       "    <tr>\n",
       "      <th>2</th>\n",
       "      <td>5</td>\n",
       "      <td>Thank you flipkart for thiz amazing product..d...</td>\n",
       "      <td>Simply awesome</td>\n",
       "    </tr>\n",
       "    <tr>\n",
       "      <th>3</th>\n",
       "      <td>5</td>\n",
       "      <td>Good</td>\n",
       "      <td>Terrific purchase</td>\n",
       "    </tr>\n",
       "    <tr>\n",
       "      <th>4</th>\n",
       "      <td>5</td>\n",
       "      <td>Awesome Product.</td>\n",
       "      <td>Simply awesome</td>\n",
       "    </tr>\n",
       "    <tr>\n",
       "      <th>...</th>\n",
       "      <td>...</td>\n",
       "      <td>...</td>\n",
       "      <td>...</td>\n",
       "    </tr>\n",
       "    <tr>\n",
       "      <th>3606</th>\n",
       "      <td>5</td>\n",
       "      <td>Awesome deal got.</td>\n",
       "      <td>Perfect product!</td>\n",
       "    </tr>\n",
       "    <tr>\n",
       "      <th>3607</th>\n",
       "      <td>1</td>\n",
       "      <td>Worst. Don’t ever buy this</td>\n",
       "      <td>Don't waste your money</td>\n",
       "    </tr>\n",
       "    <tr>\n",
       "      <th>3608</th>\n",
       "      <td>5</td>\n",
       "      <td>Value for money product.\\n\\nDisplay quality: 5...</td>\n",
       "      <td>Must buy!</td>\n",
       "    </tr>\n",
       "    <tr>\n",
       "      <th>3609</th>\n",
       "      <td>5</td>\n",
       "      <td>Excellent Colour, Excellent Display,Worth Ever...</td>\n",
       "      <td>Simply awesome</td>\n",
       "    </tr>\n",
       "    <tr>\n",
       "      <th>3610</th>\n",
       "      <td>5</td>\n",
       "      <td>Super</td>\n",
       "      <td>Just wow!</td>\n",
       "    </tr>\n",
       "  </tbody>\n",
       "</table>\n",
       "<p>3611 rows × 3 columns</p>\n",
       "</div>"
      ],
      "text/plain": [
       "     Ratings                                        Review_Text  \\\n",
       "0          5  Amazing product in price range , good sound qu...   \n",
       "1          3                                               Good   \n",
       "2          5  Thank you flipkart for thiz amazing product..d...   \n",
       "3          5                                               Good   \n",
       "4          5                                   Awesome Product.   \n",
       "...      ...                                                ...   \n",
       "3606       5                                  Awesome deal got.   \n",
       "3607       1                         Worst. Don’t ever buy this   \n",
       "3608       5  Value for money product.\\n\\nDisplay quality: 5...   \n",
       "3609       5  Excellent Colour, Excellent Display,Worth Ever...   \n",
       "3610       5                                              Super   \n",
       "\n",
       "                     Summary  \n",
       "0                  Fabulous!  \n",
       "1                       Nice  \n",
       "2             Simply awesome  \n",
       "3          Terrific purchase  \n",
       "4             Simply awesome  \n",
       "...                      ...  \n",
       "3606        Perfect product!  \n",
       "3607  Don't waste your money  \n",
       "3608               Must buy!  \n",
       "3609          Simply awesome  \n",
       "3610               Just wow!  \n",
       "\n",
       "[3611 rows x 3 columns]"
      ]
     },
     "execution_count": 7,
     "metadata": {},
     "output_type": "execute_result"
    }
   ],
   "source": [
    "#Creating a dataframe\n",
    "df=pd.DataFrame()\n",
    "df['Ratings']=ratings\n",
    "df['Review_Text']=full_reviews\n",
    "df['Summary']=reviews\n",
    "df"
   ]
  },
  {
   "cell_type": "code",
   "execution_count": 8,
   "id": "fd329ae9",
   "metadata": {},
   "outputs": [],
   "source": [
    "df.to_csv(\"Flipkart_Ratings.csv\")"
   ]
  },
  {
   "cell_type": "code",
   "execution_count": 9,
   "id": "5bf54f77",
   "metadata": {},
   "outputs": [],
   "source": [
    "driver.close()"
   ]
  },
  {
   "cell_type": "markdown",
   "id": "4c8f44a8",
   "metadata": {},
   "source": [
    "## Scraping from Amazon.in"
   ]
  },
  {
   "cell_type": "code",
   "execution_count": 10,
   "id": "e1f7869d",
   "metadata": {},
   "outputs": [
    {
     "data": {
      "text/plain": [
       "<selenium.webdriver.chrome.webdriver.WebDriver (session=\"c46ff9a16717d24814aa829ec2c7617d\")>"
      ]
     },
     "execution_count": 10,
     "metadata": {},
     "output_type": "execute_result"
    }
   ],
   "source": [
    "driver=webdriver.Chrome('chromedriver.exe')\n",
    "driver.maximize_window()\n",
    "driver"
   ]
  },
  {
   "cell_type": "code",
   "execution_count": 11,
   "id": "0931c644",
   "metadata": {},
   "outputs": [],
   "source": [
    "### creating a list of Items, for which we have to scrap their ratings\n",
    "List_of_items = ['laptops','Smartphones','smart watches' , 'Printers','Computer moniters', \n",
    "                 'Digital Watches', 'Router','Cameras','Trimmers','Keyboards']"
   ]
  },
  {
   "cell_type": "code",
   "execution_count": 12,
   "id": "cd7ed2cd",
   "metadata": {},
   "outputs": [],
   "source": [
    "title = []\n",
    "review_text = []\n",
    "ratings = []"
   ]
  },
  {
   "cell_type": "code",
   "execution_count": 14,
   "id": "d3763d39",
   "metadata": {},
   "outputs": [],
   "source": [
    "## Now we will create a empty list and add all the  item's URLs present in page one.\n",
    "Product_URL=[]\n",
    "\n",
    "## Iterating items one by one in the loop and storing the urls\n",
    "for i in List_of_items:\n",
    "    ## fetching  the website\n",
    "    driver.get(\"https://www.amazon.in/\")\n",
    "    time.sleep(3)\n",
    "    \n",
    "    srchbar = driver.find_element_by_id(\"twotabsearchtextbox\")\n",
    "    srchbar.send_keys(i)\n",
    "    \n",
    "    #clicking on search button\n",
    "    \n",
    "    driver.find_element_by_id(\"nav-search-submit-button\").click()  \n",
    "    time.sleep(1)\n",
    "   \n",
    "  \n",
    "    tag=driver.find_elements_by_xpath(\"//h2[@class='a-size-mini a-spacing-none a-color-base s-line-clamp-2']/a\")\n",
    "    for i in tag:\n",
    "        Product_URL.append(i.get_attribute('href'))"
   ]
  },
  {
   "cell_type": "code",
   "execution_count": 15,
   "id": "649ee5d1",
   "metadata": {},
   "outputs": [
    {
     "name": "stdout",
     "output_type": "stream",
     "text": [
      "276\n"
     ]
    }
   ],
   "source": [
    "## Priting the length of the list which contains all the product urls\n",
    "print(len(Product_URL))"
   ]
  },
  {
   "cell_type": "code",
   "execution_count": 22,
   "id": "e4653bd2",
   "metadata": {},
   "outputs": [],
   "source": [
    "## Now we create five New empty list for every type of Star rating button's url.\n",
    "Five_star_rating_URL=[]\n",
    "Four_star_rating_URL=[]\n",
    "Three_star_rating_URL=[]\n",
    "Two_star_rating_URL=[]\n",
    "One_star_rating_URL=[]\n",
    "\n",
    "### Iterating all the product URL\n",
    "for i in Product_URL[:250]:\n",
    "    driver.get(i)\n",
    "    time.sleep(1)\n",
    "    for _ in range(2):\n",
    "        ## scolling the cursor at down of the page\n",
    "        driver.execute_script(\"window.scrollBy(0,6000)\")\n",
    "        time.sleep(1)\n",
    "        # Clicking on \"see all reviews\" Button\n",
    "        try:\n",
    "            driver.find_element_by_xpath(\"//a[@class='a-link-emphasis a-text-bold']\").click()\n",
    "        except:\n",
    "            pass\n",
    "        \n",
    "        try:\n",
    "            tag1= driver.find_element_by_xpath(\"//table[@id='histogramTable']/tbody/tr[5]/td[2]/a\")\n",
    "            One_star_rating_URL.append(tag1.get_attribute('href'))\n",
    "        except:\n",
    "            pass\n",
    "        try:\n",
    "            tag2 = driver.find_element_by_xpath(\"//table[@id='histogramTable']/tbody/tr[4]/td[2]/a\")\n",
    "            Two_star_rating_URL.append(tag2.get_attribute('href'))\n",
    "        except:\n",
    "            pass\n",
    "        try:\n",
    "            tag3 = driver.find_element_by_xpath(\"//table[@id='histogramTable']/tbody/tr[3]/td[2]/a\")\n",
    "            for i in tag3:\n",
    "                Three_star_rating_URL.append(tag3.get_attribute('href'))\n",
    "        except:\n",
    "            pass\n",
    "        try:\n",
    "            tag4 = driver.find_element_by_xpath(\"//table[@id='histogramTable']/tbody/tr[2]/td[2]/a\")\n",
    "            Four_star_rating_URL.append(tag4.get_attribute('href'))\n",
    "        except:\n",
    "            pass\n",
    "        try:\n",
    "            tag5 = driver.find_element_by_xpath(\"//table[@id='histogramTable']/tbody/tr[1]/td[2]/a\")\n",
    "            Five_star_rating_URL.append(tag5.get_attribute('href'))\n",
    "        except:\n",
    "            pass       "
   ]
  },
  {
   "cell_type": "code",
   "execution_count": 23,
   "id": "3f429314",
   "metadata": {},
   "outputs": [
    {
     "name": "stdout",
     "output_type": "stream",
     "text": [
      "442\n",
      "424\n",
      "0\n",
      "450\n",
      "464\n"
     ]
    }
   ],
   "source": [
    "print(len(One_star_rating_URL))\n",
    "print(len(Two_star_rating_URL))\n",
    "print(len(Three_star_rating_URL))\n",
    "print(len(Four_star_rating_URL))\n",
    "print(len(Five_star_rating_URL))"
   ]
  },
  {
   "cell_type": "markdown",
   "id": "075c2d6c",
   "metadata": {},
   "source": [
    "### \"1\" Star Ratings reviews\n"
   ]
  },
  {
   "cell_type": "code",
   "execution_count": 24,
   "id": "84716d06",
   "metadata": {},
   "outputs": [],
   "source": [
    "## As we know one_star_rating list contains only 1Star rating reviews so,\n",
    "reviews_1=[]\n",
    "Full_reviews_1=[]\n",
    "for i in One_star_rating_URL:\n",
    "    driver.get(i)\n",
    "    time.sleep(1)\n",
    "    \n",
    "   \n",
    "    try:\n",
    "        tag=driver.find_elements_by_xpath('//div[@class=\"a-section a-spacing-none review-views celwidget\"]/div/div/div/div/a[@data-hook=\"review-title\"]')\n",
    "        for i in tag:\n",
    "            reviews_1.append(i.text)\n",
    "    except NoSuchElementException:\n",
    "        reviews_1.append('-')\n",
    "    \n",
    "    try:\n",
    "        tag=driver.find_elements_by_xpath('//div[@class=\"a-section a-spacing-none review-views celwidget\"]/div/div/div/div[@class=\"a-row a-spacing-small review-data\"]')\n",
    "        for i in tag:\n",
    "            Full_reviews_1.append(i.text)\n",
    "    except NoSuchElementException:\n",
    "        Full_reviews_1.append('-')  "
   ]
  },
  {
   "cell_type": "code",
   "execution_count": 25,
   "id": "6100f53f",
   "metadata": {},
   "outputs": [
    {
     "name": "stdout",
     "output_type": "stream",
     "text": [
      "3672 3756\n"
     ]
    }
   ],
   "source": [
    "print(len(reviews_1),len(Full_reviews_1))"
   ]
  },
  {
   "cell_type": "code",
   "execution_count": 26,
   "id": "6cd3f1a2",
   "metadata": {},
   "outputs": [],
   "source": [
    "## creating a list of Ratings:\n",
    "ratings_1=[1]*3672"
   ]
  },
  {
   "cell_type": "markdown",
   "id": "728b1162",
   "metadata": {},
   "source": [
    "### \"2\" Star Rating Reviews:"
   ]
  },
  {
   "cell_type": "code",
   "execution_count": 27,
   "id": "cb359221",
   "metadata": {},
   "outputs": [],
   "source": [
    "## As we know two_star_rating list contains only 2 Star rating reviews so,\n",
    "reviews_2=[]\n",
    "Full_reviews_2=[]\n",
    "\n",
    "for i in Two_star_rating_URL[:300]:\n",
    "    driver.get(i)\n",
    "    time.sleep(1)\n",
    "    try:\n",
    "        tag=driver.find_elements_by_xpath('//div[@class=\"a-section a-spacing-none review-views celwidget\"]/div/div/div/div/a[@data-hook=\"review-title\"]')\n",
    "        for i in tag:\n",
    "            reviews_2.append(i.text)\n",
    "    except NoSuchElementException:\n",
    "        reviews_2.append('-')\n",
    "    \n",
    "    try:\n",
    "        tag=driver.find_elements_by_xpath('//div[@class=\"a-section a-spacing-none review-views celwidget\"]/div/div/div/div[@class=\"a-row a-spacing-small review-data\"]')\n",
    "        for i in tag:\n",
    "            Full_reviews_2.append(i.text)\n",
    "    except NoSuchElementException:\n",
    "        Full_reviews_2.append('-') "
   ]
  },
  {
   "cell_type": "code",
   "execution_count": 28,
   "id": "5c2be3b1",
   "metadata": {},
   "outputs": [
    {
     "name": "stdout",
     "output_type": "stream",
     "text": [
      "2206 2268\n"
     ]
    }
   ],
   "source": [
    "print(len(reviews_2),len(Full_reviews_2))"
   ]
  },
  {
   "cell_type": "code",
   "execution_count": 29,
   "id": "d8dc5173",
   "metadata": {},
   "outputs": [],
   "source": [
    "### creating 2 Star rating list:\n",
    "ratings_2=[2]*2206"
   ]
  },
  {
   "cell_type": "markdown",
   "id": "bec897aa",
   "metadata": {},
   "source": [
    "### \"3\" Star Rating Reviews:-"
   ]
  },
  {
   "cell_type": "code",
   "execution_count": 30,
   "id": "1320d7bc",
   "metadata": {},
   "outputs": [],
   "source": [
    "## As we know three_star_rating list contains only 3 Star rating reviews so,\n",
    "reviews_3=[]\n",
    "Full_reviews_3=[]\n",
    "\n",
    "for i in Three_star_rating_URL:\n",
    "    driver.get(i)\n",
    "    time.sleep(1)\n",
    "   \n",
    "    try:\n",
    "        tag=driver.find_elements_by_xpath('//a[@data-hook=\"review-title\"]')\n",
    "        for i in tag:\n",
    "            reviews_3.append(i.text)\n",
    "    except NoSuchElementException:\n",
    "        reviews_3.append('-')\n",
    "    \n",
    "    try:\n",
    "        tag=driver.find_elements_by_xpath('//div[@class=\"a-row a-spacing-small review-data\"]//span[@data-hook=\"review-body\"]')\n",
    "        for i in tag:\n",
    "            Full_reviews_3.append(i.text)\n",
    "    except NoSuchElementException:\n",
    "        Full_reviews_3.append('-') "
   ]
  },
  {
   "cell_type": "code",
   "execution_count": 31,
   "id": "6556c7e4",
   "metadata": {},
   "outputs": [
    {
     "name": "stdout",
     "output_type": "stream",
     "text": [
      "0 0\n"
     ]
    }
   ],
   "source": [
    "print(len(reviews_3),len(Full_reviews_3))"
   ]
  },
  {
   "cell_type": "code",
   "execution_count": 32,
   "id": "b270306a",
   "metadata": {},
   "outputs": [],
   "source": [
    "## Creating a 3 Star rating list\n",
    "ratings_3=[3]*0"
   ]
  },
  {
   "cell_type": "markdown",
   "id": "9067ca17",
   "metadata": {},
   "source": [
    "### \"4\" Star Rating Reviews"
   ]
  },
  {
   "cell_type": "code",
   "execution_count": 35,
   "id": "cea05a98",
   "metadata": {},
   "outputs": [],
   "source": [
    "## As we know Four_star_rating list contains only 4 Star rating reviews so,\n",
    "reviews_4=[]\n",
    "Full_reviews_4=[]\n",
    "\n",
    "for i in Four_star_rating_URL:\n",
    "    driver.get(i)\n",
    "    time.sleep(1)\n",
    "   \n",
    "    try:\n",
    "        tag=driver.find_elements_by_xpath('//div[@class=\"a-section a-spacing-none review-views celwidget\"]/div/div/div/div/a[@data-hook=\"review-title\"]')\n",
    "        for i in tag:\n",
    "            reviews_4.append(i.text)\n",
    "    except NoSuchElementException:\n",
    "        reviews_4.append('-')\n",
    "    \n",
    "    try:\n",
    "        tag=driver.find_elements_by_xpath('//div[@class=\"a-section a-spacing-none review-views celwidget\"]/div/div/div/div[@class=\"a-row a-spacing-small review-data\"]')\n",
    "        for i in tag:\n",
    "            Full_reviews_4.append(i.text)\n",
    "    except NoSuchElementException:\n",
    "        Full_reviews_4.append('-')  "
   ]
  },
  {
   "cell_type": "code",
   "execution_count": 36,
   "id": "714f0dce",
   "metadata": {},
   "outputs": [
    {
     "name": "stdout",
     "output_type": "stream",
     "text": [
      "3616 3732\n"
     ]
    }
   ],
   "source": [
    "print(len(reviews_4),len(Full_reviews_4))"
   ]
  },
  {
   "cell_type": "code",
   "execution_count": 37,
   "id": "6bd26c0e",
   "metadata": {},
   "outputs": [],
   "source": [
    "### Creating a list of 4 Star Reviews:\n",
    "ratings_4=[4]*3616"
   ]
  },
  {
   "cell_type": "markdown",
   "id": "b9c9c3f1",
   "metadata": {},
   "source": [
    "### \"5\" Star Rating Reviews:"
   ]
  },
  {
   "cell_type": "code",
   "execution_count": 38,
   "id": "d02838d6",
   "metadata": {},
   "outputs": [],
   "source": [
    "## As we know Five_star_rating list contains only 5 Star rating reviews so,\n",
    "reviews_5=[]\n",
    "Full_reviews_5=[]\n",
    "\n",
    "for i in Five_star_rating_URL:\n",
    "    driver.get(i)\n",
    "    time.sleep(1)\n",
    "   \n",
    "    try:\n",
    "        tag=driver.find_elements_by_xpath('//a[@data-hook=\"review-title\"]')\n",
    "        for i in tag:\n",
    "            reviews_5.append(i.text)\n",
    "    except NoSuchElementException:\n",
    "        reviews_5.append('-')\n",
    "    \n",
    "    try:\n",
    "        tag=driver.find_elements_by_xpath('//div[@class=\"a-row a-spacing-small review-data\"]//span[@data-hook=\"review-body\"]')\n",
    "        for i in tag:\n",
    "            Full_reviews_5.append(i.text)\n",
    "    except NoSuchElementException:\n",
    "        Full_reviews_5.append('-')  "
   ]
  },
  {
   "cell_type": "code",
   "execution_count": 39,
   "id": "d39f6ec4",
   "metadata": {},
   "outputs": [
    {
     "name": "stdout",
     "output_type": "stream",
     "text": [
      "4092 4218\n"
     ]
    }
   ],
   "source": [
    "print(len(reviews_5),len(Full_reviews_5))"
   ]
  },
  {
   "cell_type": "code",
   "execution_count": 40,
   "id": "bcc1456d",
   "metadata": {},
   "outputs": [],
   "source": [
    "## Creating a 5 Star ratings reviews:\n",
    "ratings_5=[5]*4092"
   ]
  },
  {
   "cell_type": "markdown",
   "id": "c77eead5",
   "metadata": {},
   "source": [
    "### Adding All the Reviews and Ratings:\n"
   ]
  },
  {
   "cell_type": "code",
   "execution_count": 41,
   "id": "d5bb45db",
   "metadata": {},
   "outputs": [],
   "source": [
    "Reviews = reviews_1 + reviews_2 + reviews_3 + reviews_4 + reviews_5\n",
    "Full_Reviews = Full_reviews_1[:3672] + Full_reviews_2[0:2206] + Full_reviews_3 + Full_reviews_4[:3616] + Full_reviews_5[:4092]\n",
    "Ratings = ratings_1 + ratings_2 + ratings_3 + ratings_4 + ratings_5"
   ]
  },
  {
   "cell_type": "markdown",
   "id": "03e617e3",
   "metadata": {},
   "source": [
    "### Creating A DataFrame:\n"
   ]
  },
  {
   "cell_type": "code",
   "execution_count": 42,
   "id": "5585b25a",
   "metadata": {},
   "outputs": [
    {
     "data": {
      "text/html": [
       "<div>\n",
       "<style scoped>\n",
       "    .dataframe tbody tr th:only-of-type {\n",
       "        vertical-align: middle;\n",
       "    }\n",
       "\n",
       "    .dataframe tbody tr th {\n",
       "        vertical-align: top;\n",
       "    }\n",
       "\n",
       "    .dataframe thead th {\n",
       "        text-align: right;\n",
       "    }\n",
       "</style>\n",
       "<table border=\"1\" class=\"dataframe\">\n",
       "  <thead>\n",
       "    <tr style=\"text-align: right;\">\n",
       "      <th></th>\n",
       "      <th>Ratings</th>\n",
       "      <th>Review_Text</th>\n",
       "      <th>Summary</th>\n",
       "    </tr>\n",
       "  </thead>\n",
       "  <tbody>\n",
       "    <tr>\n",
       "      <th>0</th>\n",
       "      <td>1</td>\n",
       "      <td>Amazon is selling used product as new product....</td>\n",
       "      <td>Not worth the money.</td>\n",
       "    </tr>\n",
       "    <tr>\n",
       "      <th>1</th>\n",
       "      <td>1</td>\n",
       "      <td>Please don’t buy any electronic devices in Ama...</td>\n",
       "      <td>Worst experience with Amazon</td>\n",
       "    </tr>\n",
       "    <tr>\n",
       "      <th>2</th>\n",
       "      <td>1</td>\n",
       "      <td>Hi, Amazon told that we get 12 months Warrenty...</td>\n",
       "      <td>Not original product. Loads of issues. Do not buy</td>\n",
       "    </tr>\n",
       "    <tr>\n",
       "      <th>3</th>\n",
       "      <td>1</td>\n",
       "      <td>Product has some warrantee related problem. Re...</td>\n",
       "      <td>Product not good</td>\n",
       "    </tr>\n",
       "    <tr>\n",
       "      <th>4</th>\n",
       "      <td>1</td>\n",
       "      <td>Amazon customer service is bad as they are not...</td>\n",
       "      <td>Speaker sound is cracking while video playback.</td>\n",
       "    </tr>\n",
       "    <tr>\n",
       "      <th>...</th>\n",
       "      <td>...</td>\n",
       "      <td>...</td>\n",
       "      <td>...</td>\n",
       "    </tr>\n",
       "    <tr>\n",
       "      <th>13581</th>\n",
       "      <td>5</td>\n",
       "      <td>The camera is really budjet friendly\\nThe qual...</td>\n",
       "      <td>Amazon delivered this product just in one day ...</td>\n",
       "    </tr>\n",
       "    <tr>\n",
       "      <th>13582</th>\n",
       "      <td>5</td>\n",
       "      <td>Price, video quality is best in budget company...</td>\n",
       "      <td>Nice product</td>\n",
       "    </tr>\n",
       "    <tr>\n",
       "      <th>13583</th>\n",
       "      <td>5</td>\n",
       "      <td>Value for money product. Very good stabilizati...</td>\n",
       "      <td>Smooth ... Feel standard</td>\n",
       "    </tr>\n",
       "    <tr>\n",
       "      <th>13584</th>\n",
       "      <td>5</td>\n",
       "      <td>Play Video\\n Pro's:\\n1. Good clarity consideri...</td>\n",
       "      <td>Osm</td>\n",
       "    </tr>\n",
       "    <tr>\n",
       "      <th>13585</th>\n",
       "      <td>5</td>\n",
       "      <td>The product is really good at this price range...</td>\n",
       "      <td>BATTERY POWER FULL</td>\n",
       "    </tr>\n",
       "  </tbody>\n",
       "</table>\n",
       "<p>13586 rows × 3 columns</p>\n",
       "</div>"
      ],
      "text/plain": [
       "       Ratings                                        Review_Text  \\\n",
       "0            1  Amazon is selling used product as new product....   \n",
       "1            1  Please don’t buy any electronic devices in Ama...   \n",
       "2            1  Hi, Amazon told that we get 12 months Warrenty...   \n",
       "3            1  Product has some warrantee related problem. Re...   \n",
       "4            1  Amazon customer service is bad as they are not...   \n",
       "...        ...                                                ...   \n",
       "13581        5  The camera is really budjet friendly\\nThe qual...   \n",
       "13582        5  Price, video quality is best in budget company...   \n",
       "13583        5  Value for money product. Very good stabilizati...   \n",
       "13584        5  Play Video\\n Pro's:\\n1. Good clarity consideri...   \n",
       "13585        5  The product is really good at this price range...   \n",
       "\n",
       "                                                 Summary  \n",
       "0                                   Not worth the money.  \n",
       "1                           Worst experience with Amazon  \n",
       "2      Not original product. Loads of issues. Do not buy  \n",
       "3                                       Product not good  \n",
       "4        Speaker sound is cracking while video playback.  \n",
       "...                                                  ...  \n",
       "13581  Amazon delivered this product just in one day ...  \n",
       "13582                                       Nice product  \n",
       "13583                           Smooth ... Feel standard  \n",
       "13584                                                Osm  \n",
       "13585                                 BATTERY POWER FULL  \n",
       "\n",
       "[13586 rows x 3 columns]"
      ]
     },
     "execution_count": 42,
     "metadata": {},
     "output_type": "execute_result"
    }
   ],
   "source": [
    "new_df=pd.DataFrame()\n",
    "new_df['Ratings']=Ratings\n",
    "new_df['Review_Text']=Full_Reviews\n",
    "new_df['Summary']=Reviews\n",
    "new_df"
   ]
  },
  {
   "cell_type": "code",
   "execution_count": 44,
   "id": "4a1f62e4",
   "metadata": {},
   "outputs": [],
   "source": [
    "new_df.to_csv(\"Amazon_Ratings.csv\")"
   ]
  },
  {
   "cell_type": "markdown",
   "id": "6870fdee",
   "metadata": {},
   "source": [
    "### Adding All Data\n"
   ]
  },
  {
   "cell_type": "code",
   "execution_count": 45,
   "id": "aff99bd1",
   "metadata": {},
   "outputs": [
    {
     "data": {
      "text/html": [
       "<div>\n",
       "<style scoped>\n",
       "    .dataframe tbody tr th:only-of-type {\n",
       "        vertical-align: middle;\n",
       "    }\n",
       "\n",
       "    .dataframe tbody tr th {\n",
       "        vertical-align: top;\n",
       "    }\n",
       "\n",
       "    .dataframe thead th {\n",
       "        text-align: right;\n",
       "    }\n",
       "</style>\n",
       "<table border=\"1\" class=\"dataframe\">\n",
       "  <thead>\n",
       "    <tr style=\"text-align: right;\">\n",
       "      <th></th>\n",
       "      <th>Ratings</th>\n",
       "      <th>Review_Text</th>\n",
       "      <th>Summary</th>\n",
       "    </tr>\n",
       "  </thead>\n",
       "  <tbody>\n",
       "    <tr>\n",
       "      <th>0</th>\n",
       "      <td>5</td>\n",
       "      <td>Amazing product in price range , good sound qu...</td>\n",
       "      <td>Fabulous!</td>\n",
       "    </tr>\n",
       "    <tr>\n",
       "      <th>1</th>\n",
       "      <td>3</td>\n",
       "      <td>Good</td>\n",
       "      <td>Nice</td>\n",
       "    </tr>\n",
       "    <tr>\n",
       "      <th>2</th>\n",
       "      <td>5</td>\n",
       "      <td>Thank you flipkart for thiz amazing product..d...</td>\n",
       "      <td>Simply awesome</td>\n",
       "    </tr>\n",
       "    <tr>\n",
       "      <th>3</th>\n",
       "      <td>5</td>\n",
       "      <td>Good</td>\n",
       "      <td>Terrific purchase</td>\n",
       "    </tr>\n",
       "    <tr>\n",
       "      <th>4</th>\n",
       "      <td>5</td>\n",
       "      <td>Awesome Product.</td>\n",
       "      <td>Simply awesome</td>\n",
       "    </tr>\n",
       "    <tr>\n",
       "      <th>...</th>\n",
       "      <td>...</td>\n",
       "      <td>...</td>\n",
       "      <td>...</td>\n",
       "    </tr>\n",
       "    <tr>\n",
       "      <th>13581</th>\n",
       "      <td>5</td>\n",
       "      <td>The camera is really budjet friendly\\nThe qual...</td>\n",
       "      <td>Amazon delivered this product just in one day ...</td>\n",
       "    </tr>\n",
       "    <tr>\n",
       "      <th>13582</th>\n",
       "      <td>5</td>\n",
       "      <td>Price, video quality is best in budget company...</td>\n",
       "      <td>Nice product</td>\n",
       "    </tr>\n",
       "    <tr>\n",
       "      <th>13583</th>\n",
       "      <td>5</td>\n",
       "      <td>Value for money product. Very good stabilizati...</td>\n",
       "      <td>Smooth ... Feel standard</td>\n",
       "    </tr>\n",
       "    <tr>\n",
       "      <th>13584</th>\n",
       "      <td>5</td>\n",
       "      <td>Play Video\\n Pro's:\\n1. Good clarity consideri...</td>\n",
       "      <td>Osm</td>\n",
       "    </tr>\n",
       "    <tr>\n",
       "      <th>13585</th>\n",
       "      <td>5</td>\n",
       "      <td>The product is really good at this price range...</td>\n",
       "      <td>BATTERY POWER FULL</td>\n",
       "    </tr>\n",
       "  </tbody>\n",
       "</table>\n",
       "<p>17197 rows × 3 columns</p>\n",
       "</div>"
      ],
      "text/plain": [
       "      Ratings                                        Review_Text  \\\n",
       "0           5  Amazing product in price range , good sound qu...   \n",
       "1           3                                               Good   \n",
       "2           5  Thank you flipkart for thiz amazing product..d...   \n",
       "3           5                                               Good   \n",
       "4           5                                   Awesome Product.   \n",
       "...       ...                                                ...   \n",
       "13581       5  The camera is really budjet friendly\\nThe qual...   \n",
       "13582       5  Price, video quality is best in budget company...   \n",
       "13583       5  Value for money product. Very good stabilizati...   \n",
       "13584       5  Play Video\\n Pro's:\\n1. Good clarity consideri...   \n",
       "13585       5  The product is really good at this price range...   \n",
       "\n",
       "                                                 Summary  \n",
       "0                                              Fabulous!  \n",
       "1                                                   Nice  \n",
       "2                                         Simply awesome  \n",
       "3                                      Terrific purchase  \n",
       "4                                         Simply awesome  \n",
       "...                                                  ...  \n",
       "13581  Amazon delivered this product just in one day ...  \n",
       "13582                                       Nice product  \n",
       "13583                           Smooth ... Feel standard  \n",
       "13584                                                Osm  \n",
       "13585                                 BATTERY POWER FULL  \n",
       "\n",
       "[17197 rows x 3 columns]"
      ]
     },
     "execution_count": 45,
     "metadata": {},
     "output_type": "execute_result"
    }
   ],
   "source": [
    "data=pd.concat([df,new_df],axis=0)\n",
    "data"
   ]
  },
  {
   "cell_type": "code",
   "execution_count": 46,
   "id": "7aee5ad0",
   "metadata": {},
   "outputs": [],
   "source": [
    "#saving the data into excel file\n",
    "data.to_excel(\"Ratings_Dataset.xlsx\")"
   ]
  },
  {
   "cell_type": "code",
   "execution_count": 47,
   "id": "bbd15583",
   "metadata": {},
   "outputs": [],
   "source": [
    "driver.close()"
   ]
  },
  {
   "cell_type": "code",
   "execution_count": null,
   "id": "f776fa8f",
   "metadata": {},
   "outputs": [],
   "source": []
  }
 ],
 "metadata": {
  "kernelspec": {
   "display_name": "Python 3 (ipykernel)",
   "language": "python",
   "name": "python3"
  },
  "language_info": {
   "codemirror_mode": {
    "name": "ipython",
    "version": 3
   },
   "file_extension": ".py",
   "mimetype": "text/x-python",
   "name": "python",
   "nbconvert_exporter": "python",
   "pygments_lexer": "ipython3",
   "version": "3.9.7"
  }
 },
 "nbformat": 4,
 "nbformat_minor": 5
}
