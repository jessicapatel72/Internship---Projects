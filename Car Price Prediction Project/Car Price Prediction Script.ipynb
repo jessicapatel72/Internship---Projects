{
 "cells": [
  {
   "cell_type": "markdown",
   "id": "1827a213",
   "metadata": {},
   "source": [
    "# Car Price Prediction : Data Collection"
   ]
  },
  {
   "cell_type": "markdown",
   "id": "d6482eb6",
   "metadata": {},
   "source": [
    "# Data Collection Sources:"
   ]
  },
  {
   "cell_type": "markdown",
   "id": "a5cc38ec",
   "metadata": {},
   "source": [
    "- Cars 24 website - https://www.cars24.com/"
   ]
  },
  {
   "cell_type": "markdown",
   "id": "872b6688",
   "metadata": {},
   "source": [
    "Required Features:\n",
    "\n",
    "1. Brand\n",
    "2. Model\n",
    "3. Manufacturing Year\n",
    "4. Driven kilometers\n",
    "5. Fuel\n",
    "6. Number of Owners\n",
    "7. Location\n",
    "8. Price of the Car\n",
    "9. Monthly_EMI\n"
   ]
  },
  {
   "cell_type": "code",
   "execution_count": 1,
   "id": "e4055565",
   "metadata": {},
   "outputs": [],
   "source": [
    "#importing libraries\n",
    "import pandas as pd\n",
    "import numpy as np\n",
    "import warnings\n",
    "warnings.filterwarnings('ignore')\n",
    "\n",
    "import time\n",
    "import matplotlib.pyplot as plt\n",
    "\n",
    "import requests\n",
    "from bs4 import BeautifulSoup\n",
    "import selenium\n",
    "from selenium import webdriver\n",
    "from selenium.webdriver.common.keys import Keys\n",
    "from selenium.webdriver.common.by import By\n",
    "from selenium.webdriver.support import expected_conditions as ec\n",
    "from selenium.webdriver.support.ui import WebDriverWait\n",
    "from selenium.common.exceptions import TimeoutException, NoSuchElementException, ElementClickInterceptedException, StaleElementReferenceException"
   ]
  },
  {
   "cell_type": "code",
   "execution_count": 2,
   "id": "7a336631",
   "metadata": {},
   "outputs": [],
   "source": [
    "url = \"https://www.cars24.com/\""
   ]
  },
  {
   "cell_type": "code",
   "execution_count": 3,
   "id": "378aff30",
   "metadata": {},
   "outputs": [
    {
     "name": "stdout",
     "output_type": "stream",
     "text": [
      "Legality Response number from Cars 24 URL is: <Response [200]>\n"
     ]
    }
   ],
   "source": [
    "page = requests.get(url)\n",
    "print(\"Legality Response number from Cars 24 URL is:\", page) # to show the response output from the webpage\n",
    "soup = BeautifulSoup(page.content)"
   ]
  },
  {
   "cell_type": "code",
   "execution_count": 4,
   "id": "749c3512",
   "metadata": {},
   "outputs": [],
   "source": [
    "web_driver = webdriver.Chrome(r\"chromedriver.exe\")\n",
    "web_driver.get(url)\n",
    "web_driver.maximize_window()"
   ]
  },
  {
   "cell_type": "code",
   "execution_count": 5,
   "id": "01a1d9bd",
   "metadata": {},
   "outputs": [],
   "source": [
    "#select location manually option\n",
    "select_location_manually =web_driver.find_element_by_xpath(\"//div[@class='_1K8Qe']\")\n",
    "select_location_manually.click()"
   ]
  },
  {
   "cell_type": "markdown",
   "id": "10b59f35",
   "metadata": {},
   "source": [
    "# 1. Used cars in Pune"
   ]
  },
  {
   "cell_type": "code",
   "execution_count": 6,
   "id": "b6c56e9d",
   "metadata": {},
   "outputs": [],
   "source": [
    "#click on searched location icon\n",
    "search_location = web_driver.find_element_by_xpath(\"//ul[@class='popularCities _16Bvy']/li[5]\")\n",
    "search_location.click()"
   ]
  },
  {
   "cell_type": "code",
   "execution_count": 7,
   "id": "9f177dae",
   "metadata": {},
   "outputs": [],
   "source": [
    "#choose the \"Buy Used Car\" option on the webpage\n",
    "select_used_cars_option = web_driver.find_element_by_xpath(\"//li[@class='bVlpj']\")\n",
    "select_used_cars_option.click()"
   ]
  },
  {
   "cell_type": "code",
   "execution_count": 8,
   "id": "b1f22926",
   "metadata": {},
   "outputs": [],
   "source": [
    "#choose the \"View All Cars\" option on the webpage\n",
    "select_all_cars_option = web_driver.find_element_by_xpath(\"//div[@class='_175lW']\")\n",
    "select_all_cars_option.click()"
   ]
  },
  {
   "cell_type": "code",
   "execution_count": 9,
   "id": "9c60fb1a",
   "metadata": {},
   "outputs": [],
   "source": [
    "#for scrolling the page at the end\n",
    "for _ in range(1000):\n",
    "    web_driver.execute_script(\"window.scrollBy(0,10000)\")"
   ]
  },
  {
   "cell_type": "code",
   "execution_count": 17,
   "id": "8acaf73f",
   "metadata": {},
   "outputs": [],
   "source": [
    "#extract the tag having brand name\n",
    "brand = web_driver.find_elements_by_xpath(\"//h2[@class='_3FpCg']\")\n",
    "#to remove extra data other than output we required\n",
    "brand_Pune = [] #empty list\n",
    "for i in brand:\n",
    "    brand_Pune.append(i.text)\n",
    "    \n",
    "#extract the tag having manufacturing year\n",
    "year = web_driver.find_elements_by_xpath(\"//h2[@class='_3FpCg']\")\n",
    "#to remove extra data other than output we required\n",
    "year_Pune = [] #empty list\n",
    "for i in year:\n",
    "    year_Pune.append(i.text.split()[0])\n",
    "\n",
    "#extract the tag having model name\n",
    "model = web_driver.find_elements_by_xpath(\"//p[@class='cvakB']\")\n",
    "#to remove extra data other than output we required\n",
    "model_Pune = [] #empty list\n",
    "for i in model:\n",
    "    model_Pune.append(i.text)\n",
    "\n",
    "#extract the tag having Driven kilometer name\n",
    "km = web_driver.find_elements_by_xpath(\"//ul[@class='bVR0c']//li\")\n",
    "#to remove extra data other than output we required\n",
    "driven_km_Pune = [] #empty list\n",
    "for i in km[0: :3]:\n",
    "    driven_km_Pune.append(i.text)\n",
    "\n",
    "#extract the tag having fuel name\n",
    "fuel = web_driver.find_elements_by_xpath(\"//ul[@class='bVR0c']//li\")\n",
    "#to remove extra data other than output we required\n",
    "fuel_Pune = [] #empty list\n",
    "for i in fuel[2: :3]:\n",
    "    fuel_Pune.append(i.text)\n",
    "    \n",
    "#extract the tag having owner name\n",
    "owner = web_driver.find_elements_by_xpath(\"//ul[@class='bVR0c']//li\")\n",
    "#to remove extra data other than output we required\n",
    "no_of_owner_Pune = [] #empty list\n",
    "for i in owner[1: :3]:\n",
    "    no_of_owner_Pune.append(i.text)\n",
    "\n",
    "#extract the tag having price\n",
    "price = web_driver.find_elements_by_xpath(\"//div[@class='_7udZZ']\")\n",
    "#to remove extra data other than output we required\n",
    "price_Pune = [] #empty list\n",
    "for i in price:\n",
    "    price_Pune.append(i.text)\n",
    "\n",
    "#extract the tag having Monthly EMI\n",
    "EMI = web_driver.find_elements_by_xpath(\"//div[@class='_2HFRN']\")\n",
    "#to remove extra data other than output we required\n",
    "monthly_EMI_Pune = [] #empty list\n",
    "for i in EMI:\n",
    "    monthly_EMI_Pune.append(i.text)\n",
    "    \n",
    "#add the location list manually\n",
    "location_Pune = []\n",
    "for i in range(0,len(brand_Pune)):\n",
    "    i = \"Pune\"\n",
    "    location_Pune.append(i)"
   ]
  },
  {
   "cell_type": "code",
   "execution_count": 18,
   "id": "388f8480",
   "metadata": {},
   "outputs": [
    {
     "name": "stdout",
     "output_type": "stream",
     "text": [
      "414 414 414 414 414 414 414 414 414\n"
     ]
    }
   ],
   "source": [
    "print(len(brand_Pune), len(year_Pune), len(model_Pune), len(driven_km_Pune), len(fuel_Pune), len(no_of_owner_Pune), \n",
    "      len(price_Pune), len(monthly_EMI_Pune), len(location_Pune))"
   ]
  },
  {
   "cell_type": "markdown",
   "id": "268cdeba",
   "metadata": {},
   "source": [
    "# 2. Used cars in New Delhi"
   ]
  },
  {
   "cell_type": "code",
   "execution_count": 19,
   "id": "86553198",
   "metadata": {},
   "outputs": [],
   "source": [
    "#find element for used car location\n",
    "search_location =web_driver.find_element_by_xpath(\"//p[@class='_1V4-O']\")\n",
    "search_location.click()"
   ]
  },
  {
   "cell_type": "code",
   "execution_count": 20,
   "id": "03abf064",
   "metadata": {},
   "outputs": [],
   "source": [
    "#click on searched location icon\n",
    "search_location = web_driver.find_element_by_xpath(\"//ul[@class='popularCities _16Bvy']/li[1]\")\n",
    "search_location.click()"
   ]
  },
  {
   "cell_type": "code",
   "execution_count": 21,
   "id": "e14f6f4e",
   "metadata": {},
   "outputs": [],
   "source": [
    "#for scrolling the page at the end\n",
    "for _ in range(1000):\n",
    "    web_driver.execute_script(\"window.scrollBy(0,10000)\")"
   ]
  },
  {
   "cell_type": "code",
   "execution_count": 23,
   "id": "a73cd6ee",
   "metadata": {},
   "outputs": [],
   "source": [
    "#extract the tag having brand name\n",
    "brand = web_driver.find_elements_by_xpath(\"//h2[@class='_3FpCg']\")\n",
    "#to remove extra data other than output we required\n",
    "brand_Delhi = [] #empty list\n",
    "for i in brand:\n",
    "    brand_Delhi.append(i.text)\n",
    "    \n",
    "#extract the tag having manufacturing year\n",
    "year = web_driver.find_elements_by_xpath(\"//h2[@class='_3FpCg']\")\n",
    "#to remove extra data other than output we required\n",
    "year_Delhi = [] #empty list\n",
    "for i in year:\n",
    "    year_Delhi.append(i.text.split()[0])\n",
    "\n",
    "#extract the tag having model name\n",
    "model = web_driver.find_elements_by_xpath(\"//p[@class='cvakB']\")\n",
    "#to remove extra data other than output we required\n",
    "model_Delhi = [] #empty list\n",
    "for i in model:\n",
    "    model_Delhi.append(i.text)\n",
    "\n",
    "#extract the tag having Driven kilometer name\n",
    "km = web_driver.find_elements_by_xpath(\"//ul[@class='bVR0c']//li\")\n",
    "#to remove extra data other than output we required\n",
    "driven_km_Delhi = [] #empty list\n",
    "for i in km[0: :3]:\n",
    "    driven_km_Delhi.append(i.text)\n",
    "\n",
    "#extract the tag having fuel name\n",
    "fuel = web_driver.find_elements_by_xpath(\"//ul[@class='bVR0c']//li\")\n",
    "#to remove extra data other than output we required\n",
    "fuel_Delhi = [] #empty list\n",
    "for i in fuel[2: :3]:\n",
    "    fuel_Delhi.append(i.text)\n",
    "\n",
    "#extract the tag having owner name\n",
    "owner = web_driver.find_elements_by_xpath(\"//ul[@class='bVR0c']//li\")\n",
    "#to remove extra data other than output we required\n",
    "no_of_owner_Delhi = [] #empty list\n",
    "for i in owner[1: :3]:\n",
    "    no_of_owner_Delhi.append(i.text)\n",
    "\n",
    "#extract the tag having price\n",
    "price = web_driver.find_elements_by_xpath(\"//div[@class='_7udZZ']\")\n",
    "#to remove extra data other than output we required\n",
    "price_Delhi = [] #empty list\n",
    "for i in price:\n",
    "    price_Delhi.append(i.text)\n",
    "\n",
    "#extract the tag having Monthly EMI\n",
    "EMI = web_driver.find_elements_by_xpath(\"//div[@class='_2HFRN']\")\n",
    "#to remove extra data other than output we required\n",
    "monthly_EMI_Delhi = [] #empty list\n",
    "for i in EMI:\n",
    "    monthly_EMI_Delhi.append(i.text)\n",
    "    \n",
    "#add the location list manually\n",
    "location_Delhi = []\n",
    "for i in range(0,len(brand_Delhi)):\n",
    "    i = \"Delhi\"\n",
    "    location_Delhi.append(i)"
   ]
  },
  {
   "cell_type": "code",
   "execution_count": 24,
   "id": "d6b7a250",
   "metadata": {},
   "outputs": [
    {
     "name": "stdout",
     "output_type": "stream",
     "text": [
      "621 621 621 621 621 621 621 621 621\n"
     ]
    }
   ],
   "source": [
    "print(len(brand_Delhi), len(year_Delhi), len(model_Delhi), len(driven_km_Delhi), len(fuel_Delhi), len(no_of_owner_Delhi), \n",
    "      len(price_Delhi), len(monthly_EMI_Delhi), len(location_Delhi))"
   ]
  },
  {
   "cell_type": "markdown",
   "id": "d649c2ef",
   "metadata": {},
   "source": [
    "# 3. Used cars in Noida"
   ]
  },
  {
   "cell_type": "code",
   "execution_count": 25,
   "id": "08de858b",
   "metadata": {},
   "outputs": [],
   "source": [
    "#find element for used car location\n",
    "search_location =web_driver.find_element_by_xpath(\"//p[@class='_1V4-O']\")\n",
    "search_location.click()"
   ]
  },
  {
   "cell_type": "code",
   "execution_count": 26,
   "id": "c6e6a5f6",
   "metadata": {},
   "outputs": [],
   "source": [
    "#click on searched location icon\n",
    "search_location = web_driver.find_element_by_xpath(\"//ul[@class='popularCities _16Bvy']/li[2]\")\n",
    "search_location.click()"
   ]
  },
  {
   "cell_type": "code",
   "execution_count": 27,
   "id": "04421799",
   "metadata": {},
   "outputs": [],
   "source": [
    "#for scrolling the page at the end\n",
    "for _ in range(1000):\n",
    "    web_driver.execute_script(\"window.scrollBy(0,10000)\")"
   ]
  },
  {
   "cell_type": "code",
   "execution_count": 30,
   "id": "cb99595c",
   "metadata": {},
   "outputs": [],
   "source": [
    "#extract the tag having brand name\n",
    "brand = web_driver.find_elements_by_xpath(\"//h2[@class='_3FpCg']\")\n",
    "#to remove extra data other than output we required\n",
    "brand_Noida = [] #empty list\n",
    "for i in brand:\n",
    "    brand_Noida.append(i.text)\n",
    "    \n",
    "#extract the tag having manufacturing year\n",
    "year = web_driver.find_elements_by_xpath(\"//h2[@class='_3FpCg']\")\n",
    "#to remove extra data other than output we required\n",
    "year_Noida = [] #empty list\n",
    "for i in year:\n",
    "    year_Noida.append(i.text.split()[0])\n",
    "\n",
    "#extract the tag having model name\n",
    "model = web_driver.find_elements_by_xpath(\"//p[@class='cvakB']\")\n",
    "#to remove extra data other than output we required\n",
    "model_Noida = [] #empty list\n",
    "for i in model:\n",
    "    model_Noida.append(i.text)\n",
    "\n",
    "#extract the tag having Driven kilometer name\n",
    "km = web_driver.find_elements_by_xpath(\"//ul[@class='bVR0c']//li\")\n",
    "#to remove extra data other than output we required\n",
    "driven_km_Noida = [] #empty list\n",
    "for i in km[0: :3]:\n",
    "    driven_km_Noida.append(i.text)\n",
    "\n",
    "#extract the tag having fuel name\n",
    "fuel = web_driver.find_elements_by_xpath(\"//ul[@class='bVR0c']//li\")\n",
    "#to remove extra data other than output we required\n",
    "fuel_Noida = [] #empty list\n",
    "for i in fuel[2: :3]:\n",
    "    fuel_Noida.append(i.text)\n",
    "\n",
    "#extract the tag having owner name\n",
    "owner = web_driver.find_elements_by_xpath(\"//ul[@class='bVR0c']//li\")\n",
    "#to remove extra data other than output we required\n",
    "no_of_owner_Noida = [] #empty list\n",
    "for i in owner[1: :3]:\n",
    "    no_of_owner_Noida.append(i.text)\n",
    "\n",
    "#extract the tag having price\n",
    "price = web_driver.find_elements_by_xpath(\"//div[@class='_7udZZ']\")\n",
    "#to remove extra data other than output we required\n",
    "price_Noida = [] #empty list\n",
    "for i in price:\n",
    "    price_Noida.append(i.text)\n",
    "\n",
    "#extract the tag having Monthly EMI\n",
    "EMI = web_driver.find_elements_by_xpath(\"//div[@class='_2HFRN']\")\n",
    "#to remove extra data other than output we required\n",
    "monthly_EMI_Noida = [] #empty list\n",
    "for i in EMI:\n",
    "    monthly_EMI_Noida.append(i.text)\n",
    "    \n",
    "#add the location list manually\n",
    "location_Noida = []\n",
    "for i in range(0,len(brand_Noida)):\n",
    "    i = \"Noida\"\n",
    "    location_Noida.append(i)"
   ]
  },
  {
   "cell_type": "code",
   "execution_count": 31,
   "id": "276273ad",
   "metadata": {
    "scrolled": true
   },
   "outputs": [
    {
     "name": "stdout",
     "output_type": "stream",
     "text": [
      "612 612 612 612 612 612 612 612 612\n"
     ]
    }
   ],
   "source": [
    "print(len(brand_Noida), len(year_Noida), len(model_Noida), len(driven_km_Noida), len(fuel_Noida), len(no_of_owner_Noida), \n",
    "      len(price_Noida), len(monthly_EMI_Noida), len(location_Noida))"
   ]
  },
  {
   "cell_type": "markdown",
   "id": "b423d134",
   "metadata": {},
   "source": [
    "# 4. Used cars in Bengluru"
   ]
  },
  {
   "cell_type": "code",
   "execution_count": 32,
   "id": "cad819fd",
   "metadata": {},
   "outputs": [],
   "source": [
    "#find element for used car location\n",
    "search_location =web_driver.find_element_by_xpath(\"//p[@class='_1V4-O']\")\n",
    "search_location.click()"
   ]
  },
  {
   "cell_type": "code",
   "execution_count": 33,
   "id": "64e40004",
   "metadata": {},
   "outputs": [],
   "source": [
    "#click on searched location icon\n",
    "search_location = web_driver.find_element_by_xpath(\"//ul[@class='popularCities _16Bvy']/li[6]\")\n",
    "search_location.click()"
   ]
  },
  {
   "cell_type": "code",
   "execution_count": 34,
   "id": "06c0526f",
   "metadata": {},
   "outputs": [],
   "source": [
    "#for scrolling the page at the end\n",
    "for _ in range(1000):\n",
    "    web_driver.execute_script(\"window.scrollBy(0,10000)\")"
   ]
  },
  {
   "cell_type": "code",
   "execution_count": 35,
   "id": "32e90576",
   "metadata": {},
   "outputs": [],
   "source": [
    "#extract the tag having brand name\n",
    "brand = web_driver.find_elements_by_xpath(\"//h2[@class='_3FpCg']\")\n",
    "#to remove extra data other than output we required\n",
    "brand_Bengluru = [] #empty list\n",
    "for i in brand:\n",
    "    brand_Bengluru.append(i.text)\n",
    "    \n",
    "#extract the tag having manufacturing year\n",
    "year = web_driver.find_elements_by_xpath(\"//h2[@class='_3FpCg']\")\n",
    "#to remove extra data other than output we required\n",
    "year_Bengluru = [] #empty list\n",
    "for i in year:\n",
    "    year_Bengluru.append(i.text.split()[0])\n",
    "\n",
    "#extract the tag having model name\n",
    "model = web_driver.find_elements_by_xpath(\"//p[@class='cvakB']\")\n",
    "#to remove extra data other than output we required\n",
    "model_Bengluru = [] #empty list\n",
    "for i in model:\n",
    "    model_Bengluru.append(i.text)\n",
    "\n",
    "#extract the tag having Driven kilometer name\n",
    "km = web_driver.find_elements_by_xpath(\"//ul[@class='bVR0c']//li\")\n",
    "#to remove extra data other than output we required\n",
    "driven_km_Bengluru = [] #empty list\n",
    "for i in km[0: :3]:\n",
    "    driven_km_Bengluru.append(i.text)\n",
    "\n",
    "#extract the tag having fuel name\n",
    "fuel = web_driver.find_elements_by_xpath(\"//ul[@class='bVR0c']//li\")\n",
    "#to remove extra data other than output we required\n",
    "fuel_Bengluru = [] #empty list\n",
    "for i in fuel[2: :3]:\n",
    "    fuel_Bengluru.append(i.text)\n",
    "    \n",
    "#extract the tag having owner name\n",
    "owner = web_driver.find_elements_by_xpath(\"//ul[@class='bVR0c']//li\")\n",
    "#to remove extra data other than output we required\n",
    "no_of_owner_Bengluru = [] #empty list\n",
    "for i in owner[1: :3]:\n",
    "    no_of_owner_Bengluru.append(i.text)\n",
    "\n",
    "#extract the tag having price\n",
    "price = web_driver.find_elements_by_xpath(\"//div[@class='_7udZZ']\")\n",
    "#to remove extra data other than output we required\n",
    "price_Bengluru = [] #empty list\n",
    "for i in price:\n",
    "    price_Bengluru.append(i.text)\n",
    "\n",
    "#extract the tag having Monthly EMI\n",
    "EMI = web_driver.find_elements_by_xpath(\"//div[@class='_2HFRN']\")\n",
    "#to remove extra data other than output we required\n",
    "monthly_EMI_Bengluru = [] #empty list\n",
    "for i in EMI:\n",
    "    monthly_EMI_Bengluru.append(i.text)\n",
    "    \n",
    "#add the location list manually\n",
    "location_Bengluru = []\n",
    "for i in range(0,len(brand_Bengluru)):\n",
    "    i = \"Bengluru\"\n",
    "    location_Bengluru.append(i)"
   ]
  },
  {
   "cell_type": "code",
   "execution_count": 36,
   "id": "178ab2b9",
   "metadata": {},
   "outputs": [
    {
     "name": "stdout",
     "output_type": "stream",
     "text": [
      "395 395 395 395 395 395 395 395 395\n"
     ]
    }
   ],
   "source": [
    "print(len(brand_Bengluru), len(year_Bengluru), len(model_Bengluru), len(driven_km_Bengluru), len(fuel_Bengluru), \n",
    "      len(no_of_owner_Bengluru), len(price_Bengluru), len(monthly_EMI_Bengluru), len(location_Bengluru))"
   ]
  },
  {
   "cell_type": "markdown",
   "id": "fd42e8ad",
   "metadata": {},
   "source": [
    "# 5. Used cars in Chennai"
   ]
  },
  {
   "cell_type": "code",
   "execution_count": 37,
   "id": "c0e07c19",
   "metadata": {},
   "outputs": [],
   "source": [
    "#find element for used car location\n",
    "search_location =web_driver.find_element_by_xpath(\"//p[@class='_1V4-O']\")\n",
    "search_location.click()"
   ]
  },
  {
   "cell_type": "code",
   "execution_count": 38,
   "id": "30dbfbd4",
   "metadata": {},
   "outputs": [],
   "source": [
    "#click on searched location icon\n",
    "search_location = web_driver.find_element_by_xpath(\"//ul[@class='popularCities _16Bvy']/li[8]\")\n",
    "search_location.click()"
   ]
  },
  {
   "cell_type": "code",
   "execution_count": 39,
   "id": "80e076f8",
   "metadata": {},
   "outputs": [],
   "source": [
    "#for scrolling the page at the end\n",
    "for _ in range(1000):\n",
    "    web_driver.execute_script(\"window.scrollBy(0,10000)\")"
   ]
  },
  {
   "cell_type": "code",
   "execution_count": 40,
   "id": "d7180efc",
   "metadata": {},
   "outputs": [],
   "source": [
    "#extract the tag having brand name\n",
    "brand = web_driver.find_elements_by_xpath(\"//h2[@class='_3FpCg']\")\n",
    "#to remove extra data other than output we required\n",
    "brand_Chennai = [] #empty list\n",
    "for i in brand:\n",
    "    brand_Chennai.append(i.text)\n",
    "    \n",
    "#extract the tag having manufacturing year\n",
    "year = web_driver.find_elements_by_xpath(\"//h2[@class='_3FpCg']\")\n",
    "#to remove extra data other than output we required\n",
    "year_Chennai = [] #empty list\n",
    "for i in year:\n",
    "    year_Chennai.append(i.text.split()[0])\n",
    "\n",
    "#extract the tag having model name\n",
    "model = web_driver.find_elements_by_xpath(\"//p[@class='cvakB']\")\n",
    "#to remove extra data other than output we required\n",
    "model_Chennai = [] #empty list\n",
    "for i in model:\n",
    "    model_Chennai.append(i.text)\n",
    "\n",
    "#extract the tag having Driven kilometer name\n",
    "km = web_driver.find_elements_by_xpath(\"//ul[@class='bVR0c']//li\")\n",
    "#to remove extra data other than output we required\n",
    "driven_km_Chennai = [] #empty list\n",
    "for i in km[0: :3]:\n",
    "    driven_km_Chennai.append(i.text)\n",
    "\n",
    "#extract the tag having fuel name\n",
    "fuel = web_driver.find_elements_by_xpath(\"//ul[@class='bVR0c']//li\")\n",
    "#to remove extra data other than output we required\n",
    "fuel_Chennai = [] #empty list\n",
    "for i in fuel[2: :3]:\n",
    "    fuel_Chennai.append(i.text)\n",
    "    \n",
    "#extract the tag having owner name\n",
    "owner = web_driver.find_elements_by_xpath(\"//ul[@class='bVR0c']//li\")\n",
    "#to remove extra data other than output we required\n",
    "no_of_owner_Chennai = [] #empty list\n",
    "for i in owner[1: :3]:\n",
    "    no_of_owner_Chennai.append(i.text)\n",
    "\n",
    "#extract the tag having price\n",
    "price = web_driver.find_elements_by_xpath(\"//div[@class='_7udZZ']\")\n",
    "#to remove extra data other than output we required\n",
    "price_Chennai = [] #empty list\n",
    "for i in price:\n",
    "    price_Chennai.append(i.text)\n",
    "\n",
    "#extract the tag having Monthly EMI\n",
    "EMI = web_driver.find_elements_by_xpath(\"//div[@class='_2HFRN']\")\n",
    "#to remove extra data other than output we required\n",
    "monthly_EMI_Chennai = [] #empty list\n",
    "for i in EMI:\n",
    "    monthly_EMI_Chennai.append(i.text)\n",
    "    \n",
    "#add the location list manually\n",
    "location_Chennai = []\n",
    "for i in range(0,len(brand_Chennai)):\n",
    "    i = \"Chennai\"\n",
    "    location_Chennai.append(i)"
   ]
  },
  {
   "cell_type": "code",
   "execution_count": 41,
   "id": "f1fa1dde",
   "metadata": {
    "scrolled": true
   },
   "outputs": [
    {
     "name": "stdout",
     "output_type": "stream",
     "text": [
      "537 537 537 537 537 537 537 537 537\n"
     ]
    }
   ],
   "source": [
    "print(len(brand_Chennai), len(year_Chennai), len(model_Chennai), len(driven_km_Chennai), len(fuel_Chennai), \n",
    "      len(no_of_owner_Chennai), len(price_Chennai), len(monthly_EMI_Chennai), len(location_Chennai))"
   ]
  },
  {
   "cell_type": "markdown",
   "id": "cd70f614",
   "metadata": {},
   "source": [
    "# 6. Used cars in Gurgaon"
   ]
  },
  {
   "cell_type": "code",
   "execution_count": 42,
   "id": "a885f0b5",
   "metadata": {},
   "outputs": [],
   "source": [
    "#find element for used car location\n",
    "search_location =web_driver.find_element_by_xpath(\"//p[@class='_1V4-O']\")\n",
    "search_location.click()"
   ]
  },
  {
   "cell_type": "code",
   "execution_count": 43,
   "id": "92f8ca47",
   "metadata": {},
   "outputs": [],
   "source": [
    "#click on searched location icon\n",
    "search_location = web_driver.find_element_by_xpath(\"//ul[@class='popularCities _16Bvy']/li[3]\")\n",
    "search_location.click()"
   ]
  },
  {
   "cell_type": "code",
   "execution_count": 44,
   "id": "5c05ec13",
   "metadata": {},
   "outputs": [],
   "source": [
    "#for scrolling the page at the end\n",
    "for _ in range(1000):\n",
    "    web_driver.execute_script(\"window.scrollBy(0,10000)\")"
   ]
  },
  {
   "cell_type": "code",
   "execution_count": 47,
   "id": "3bdbd946",
   "metadata": {},
   "outputs": [],
   "source": [
    "#extract the tag having brand name\n",
    "brand = web_driver.find_elements_by_xpath(\"//h2[@class='_3FpCg']\")\n",
    "#to remove extra data other than output we required\n",
    "brand_Gurgaon = [] #empty list\n",
    "for i in brand:\n",
    "    brand_Gurgaon.append(i.text)\n",
    "\n",
    "#extract the tag having manufacturing year\n",
    "year = web_driver.find_elements_by_xpath(\"//h2[@class='_3FpCg']\")\n",
    "#to remove extra data other than output we required\n",
    "year_Gurgaon = [] #empty list\n",
    "for i in year:\n",
    "    year_Gurgaon.append(i.text.split()[0])\n",
    "\n",
    "#extract the tag having model name\n",
    "model = web_driver.find_elements_by_xpath(\"//p[@class='cvakB']\")\n",
    "#to remove extra data other than output we required\n",
    "model_Gurgaon = [] #empty list\n",
    "for i in model:\n",
    "    model_Gurgaon.append(i.text)\n",
    "\n",
    "#extract the tag having Driven kilometer name\n",
    "km = web_driver.find_elements_by_xpath(\"//ul[@class='bVR0c']//li\")\n",
    "#to remove extra data other than output we required\n",
    "driven_km_Gurgaon = [] #empty list\n",
    "for i in km[0: :3]:\n",
    "    driven_km_Gurgaon.append(i.text)\n",
    "\n",
    "#extract the tag having fuel name\n",
    "fuel = web_driver.find_elements_by_xpath(\"//ul[@class='bVR0c']//li\")\n",
    "#to remove extra data other than output we required\n",
    "fuel_Gurgaon = [] #empty list\n",
    "for i in fuel[2: :3]:\n",
    "    fuel_Gurgaon.append(i.text)\n",
    "    \n",
    "#extract the tag having owner name\n",
    "owner = web_driver.find_elements_by_xpath(\"//ul[@class='bVR0c']//li\")\n",
    "#to remove extra data other than output we required\n",
    "no_of_owner_Gurgaon = [] #empty list\n",
    "for i in owner[1: :3]:\n",
    "    no_of_owner_Gurgaon.append(i.text)\n",
    "\n",
    "#extract the tag having price\n",
    "price = web_driver.find_elements_by_xpath(\"//div[@class='_7udZZ']\")\n",
    "#to remove extra data other than output we required\n",
    "price_Gurgaon = [] #empty list\n",
    "for i in price:\n",
    "    price_Gurgaon.append(i.text)\n",
    "\n",
    "#extract the tag having Monthly EMI\n",
    "EMI = web_driver.find_elements_by_xpath(\"//div[@class='_2HFRN']\")\n",
    "#to remove extra data other than output we required\n",
    "monthly_EMI_Gurgaon = [] #empty list\n",
    "for i in EMI:\n",
    "    monthly_EMI_Gurgaon.append(i.text)\n",
    "    \n",
    "#add the locatio list manually\n",
    "location_Gurgaon = []\n",
    "for i in range(0,len(brand_Gurgaon)):\n",
    "    i = \"Gurgaon\"\n",
    "    location_Gurgaon.append(i)"
   ]
  },
  {
   "cell_type": "code",
   "execution_count": 48,
   "id": "78268fa0",
   "metadata": {
    "scrolled": true
   },
   "outputs": [
    {
     "name": "stdout",
     "output_type": "stream",
     "text": [
      "612 612 612 612 612 612 612 612 612\n"
     ]
    }
   ],
   "source": [
    "print(len(brand_Gurgaon), len(year_Gurgaon), len(model_Gurgaon), len(driven_km_Gurgaon), len(fuel_Gurgaon), \n",
    "      len(no_of_owner_Gurgaon), len(price_Gurgaon), len(monthly_EMI_Gurgaon), len(location_Gurgaon))"
   ]
  },
  {
   "cell_type": "markdown",
   "id": "3f4e2c1f",
   "metadata": {},
   "source": [
    "# 7. Used cars in Mumbai"
   ]
  },
  {
   "cell_type": "code",
   "execution_count": 49,
   "id": "ed7edd56",
   "metadata": {},
   "outputs": [],
   "source": [
    "#find element for used car location\n",
    "search_location =web_driver.find_element_by_xpath(\"//p[@class='_1V4-O']\")\n",
    "search_location.click()"
   ]
  },
  {
   "cell_type": "code",
   "execution_count": 50,
   "id": "f126c410",
   "metadata": {},
   "outputs": [],
   "source": [
    "#click on searched location icon\n",
    "search_location = web_driver.find_element_by_xpath(\"//ul[@class='popularCities _16Bvy']/li[4]\")\n",
    "search_location.click()"
   ]
  },
  {
   "cell_type": "code",
   "execution_count": 51,
   "id": "7d91e8da",
   "metadata": {},
   "outputs": [],
   "source": [
    "#for scrolling the page at the end\n",
    "for _ in range(1000):\n",
    "    web_driver.execute_script(\"window.scrollBy(0,10000)\")"
   ]
  },
  {
   "cell_type": "code",
   "execution_count": 52,
   "id": "22020aab",
   "metadata": {},
   "outputs": [],
   "source": [
    "#extract the tag having brand name\n",
    "brand = web_driver.find_elements_by_xpath(\"//h2[@class='_3FpCg']\")\n",
    "#to remove extra data other than output we required\n",
    "brand_Mumbai = [] #empty list\n",
    "for i in brand:\n",
    "    brand_Mumbai.append(i.text)\n",
    "    \n",
    "#extract the tag having manufacturing year\n",
    "year = web_driver.find_elements_by_xpath(\"//h2[@class='_3FpCg']\")\n",
    "#to remove extra data other than output we required\n",
    "year_Mumbai = [] #empty list\n",
    "for i in year:\n",
    "    year_Mumbai.append(i.text.split()[0])\n",
    "\n",
    "#extract the tag having model name\n",
    "model = web_driver.find_elements_by_xpath(\"//p[@class='cvakB']\")\n",
    "#to remove extra data other than output we required\n",
    "model_Mumbai = [] #empty list\n",
    "for i in model:\n",
    "    model_Mumbai.append(i.text)\n",
    "\n",
    "#extract the tag having Driven kilometer name\n",
    "km = web_driver.find_elements_by_xpath(\"//ul[@class='bVR0c']//li\")\n",
    "#to remove extra data other than output we required\n",
    "driven_km_Mumbai = [] #empty list\n",
    "for i in km[0: :3]:\n",
    "    driven_km_Mumbai.append(i.text)\n",
    "\n",
    "#extract the tag having fuel name\n",
    "fuel = web_driver.find_elements_by_xpath(\"//ul[@class='bVR0c']//li\")\n",
    "#to remove extra data other than output we required\n",
    "fuel_Mumbai = [] #empty list\n",
    "for i in fuel[2: :3]:\n",
    "    fuel_Mumbai.append(i.text)\n",
    "    \n",
    "#extract the tag having owner name\n",
    "owner = web_driver.find_elements_by_xpath(\"//ul[@class='bVR0c']//li\")\n",
    "#to remove extra data other than output we required\n",
    "no_of_owner_Mumbai = [] #empty list\n",
    "for i in owner[1: :3]:\n",
    "    no_of_owner_Mumbai.append(i.text)\n",
    "\n",
    "#extract the tag having price\n",
    "price = web_driver.find_elements_by_xpath(\"//div[@class='_7udZZ']\")\n",
    "#to remove extra data other than output we required\n",
    "price_Mumbai = [] #empty list\n",
    "for i in price:\n",
    "    price_Mumbai.append(i.text)\n",
    "\n",
    "#extract the tag having Monthly EMI\n",
    "EMI = web_driver.find_elements_by_xpath(\"//div[@class='_2HFRN']\")\n",
    "#to remove extra data other than output we required\n",
    "monthly_EMI_Mumbai = [] #empty list\n",
    "for i in EMI:\n",
    "    monthly_EMI_Mumbai.append(i.text)\n",
    "    \n",
    "#add the location list manually\n",
    "location_Mumbai = []\n",
    "for i in range(0,len(brand_Mumbai)):\n",
    "    i = \"Mumbai\"\n",
    "    location_Mumbai.append(i)"
   ]
  },
  {
   "cell_type": "code",
   "execution_count": 53,
   "id": "85de0d87",
   "metadata": {},
   "outputs": [
    {
     "name": "stdout",
     "output_type": "stream",
     "text": [
      "564 564 564 564 564 564 564 564 564\n"
     ]
    }
   ],
   "source": [
    "print(len(brand_Mumbai), len(year_Mumbai), len(model_Mumbai), len(driven_km_Mumbai), len(fuel_Mumbai), \n",
    "      len(no_of_owner_Mumbai), len(price_Mumbai), len(monthly_EMI_Mumbai), len(location_Mumbai))"
   ]
  },
  {
   "cell_type": "markdown",
   "id": "c82037b9",
   "metadata": {},
   "source": [
    "# 8. Used cars in Hyderabad"
   ]
  },
  {
   "cell_type": "code",
   "execution_count": 54,
   "id": "e54304a5",
   "metadata": {},
   "outputs": [],
   "source": [
    "#find element for used car location\n",
    "search_location =web_driver.find_element_by_xpath(\"//p[@class='_1V4-O']\")\n",
    "search_location.click()"
   ]
  },
  {
   "cell_type": "code",
   "execution_count": 55,
   "id": "e1ce0198",
   "metadata": {},
   "outputs": [],
   "source": [
    "#click on searched location icon\n",
    "search_location = web_driver.find_element_by_xpath(\"//ul[@class='popularCities _16Bvy']/li[7]\")\n",
    "search_location.click()"
   ]
  },
  {
   "cell_type": "code",
   "execution_count": 56,
   "id": "f2d8043e",
   "metadata": {},
   "outputs": [],
   "source": [
    "#for scrolling the page at the end\n",
    "for _ in range(1000):\n",
    "    web_driver.execute_script(\"window.scrollBy(0,10000)\")"
   ]
  },
  {
   "cell_type": "code",
   "execution_count": 57,
   "id": "8df45749",
   "metadata": {},
   "outputs": [],
   "source": [
    "#extract the tag having brand name\n",
    "brand = web_driver.find_elements_by_xpath(\"//h2[@class='_3FpCg']\")\n",
    "#to remove extra data other than output we required\n",
    "brand_Hyderabad = [] #empty list\n",
    "for i in brand:\n",
    "    brand_Hyderabad.append(i.text)\n",
    "    \n",
    "#extract the tag having manufacturing year\n",
    "year = web_driver.find_elements_by_xpath(\"//h2[@class='_3FpCg']\")\n",
    "#to remove extra data other than output we required\n",
    "year_Hyderabad = [] #empty list\n",
    "for i in year:\n",
    "    year_Hyderabad.append(i.text.split()[0])\n",
    "\n",
    "#extract the tag having model name\n",
    "model = web_driver.find_elements_by_xpath(\"//p[@class='cvakB']\")\n",
    "#to remove extra data other than output we required\n",
    "model_Hyderabad = [] #empty list\n",
    "for i in model:\n",
    "    model_Hyderabad.append(i.text)\n",
    "\n",
    "#extract the tag having Driven kilometer name\n",
    "km = web_driver.find_elements_by_xpath(\"//ul[@class='bVR0c']//li\")\n",
    "#to remove extra data other than output we required\n",
    "driven_km_Hyderabad = [] #empty list\n",
    "for i in km[0: :3]:\n",
    "    driven_km_Hyderabad.append(i.text)\n",
    "\n",
    "#extract the tag having fuel name\n",
    "fuel = web_driver.find_elements_by_xpath(\"//ul[@class='bVR0c']//li\")\n",
    "#to remove extra data other than output we required\n",
    "fuel_Hyderabad = [] #empty list\n",
    "for i in fuel[2: :3]:\n",
    "    fuel_Hyderabad.append(i.text)\n",
    "    \n",
    "#extract the tag having owner name\n",
    "owner = web_driver.find_elements_by_xpath(\"//ul[@class='bVR0c']//li\")\n",
    "#to remove extra data other than output we required\n",
    "no_of_owner_Hyderabad = [] #empty list\n",
    "for i in owner[1: :3]:\n",
    "    no_of_owner_Hyderabad.append(i.text)\n",
    "\n",
    "#extract the tag having price\n",
    "price = web_driver.find_elements_by_xpath(\"//div[@class='_7udZZ']\")\n",
    "#to remove extra data other than output we required\n",
    "price_Hyderabad = [] #empty list\n",
    "for i in price:\n",
    "    price_Hyderabad.append(i.text)\n",
    "\n",
    "#extract the tag having Monthly EMI\n",
    "EMI = web_driver.find_elements_by_xpath(\"//div[@class='_2HFRN']\")\n",
    "#to remove extra data other than output we required\n",
    "monthly_EMI_Hyderabad = [] #empty list\n",
    "for i in EMI:\n",
    "    monthly_EMI_Hyderabad.append(i.text)\n",
    "    \n",
    "#add the location list manually\n",
    "location_Hyderabad = []\n",
    "for i in range(0,len(brand_Hyderabad)):\n",
    "    i = \"Hyderabad\"\n",
    "    location_Hyderabad.append(i)"
   ]
  },
  {
   "cell_type": "code",
   "execution_count": 58,
   "id": "563ec2d1",
   "metadata": {},
   "outputs": [
    {
     "name": "stdout",
     "output_type": "stream",
     "text": [
      "264 264 264 264 264 264 264 264 264\n"
     ]
    }
   ],
   "source": [
    "print(len(brand_Hyderabad), len(year_Hyderabad), len(model_Hyderabad), len(driven_km_Hyderabad), len(fuel_Hyderabad), \n",
    "      len(no_of_owner_Hyderabad), len(price_Hyderabad), len(monthly_EMI_Hyderabad), len(location_Hyderabad))"
   ]
  },
  {
   "cell_type": "markdown",
   "id": "a2e596bb",
   "metadata": {},
   "source": [
    "# 9. Used cars in Kolkata"
   ]
  },
  {
   "cell_type": "code",
   "execution_count": 59,
   "id": "e2cd62e2",
   "metadata": {},
   "outputs": [],
   "source": [
    "#find element for used car location\n",
    "search_location =web_driver.find_element_by_xpath(\"//p[@class='_1V4-O']\")\n",
    "search_location.click()"
   ]
  },
  {
   "cell_type": "code",
   "execution_count": 60,
   "id": "21bc38ad",
   "metadata": {},
   "outputs": [],
   "source": [
    "#click on searched location icon\n",
    "search_location = web_driver.find_element_by_xpath(\"//ul[@class='popularCities _16Bvy']/li[9]\")\n",
    "search_location.click()"
   ]
  },
  {
   "cell_type": "code",
   "execution_count": 61,
   "id": "6ef15ee8",
   "metadata": {},
   "outputs": [],
   "source": [
    "#for scrolling the page at the end\n",
    "for _ in range(1000):\n",
    "    web_driver.execute_script(\"window.scrollBy(0,10000)\")"
   ]
  },
  {
   "cell_type": "code",
   "execution_count": 64,
   "id": "0cce7401",
   "metadata": {},
   "outputs": [],
   "source": [
    "#extract the tag having brand name\n",
    "brand = web_driver.find_elements_by_xpath(\"//h2[@class='_3FpCg']\")\n",
    "#to remove extra data other than output we required\n",
    "brand_Kolkata = [] #empty list\n",
    "for i in brand:\n",
    "    brand_Kolkata.append(i.text)\n",
    "    \n",
    "#extract the tag having manufacturing year\n",
    "year = web_driver.find_elements_by_xpath(\"//h2[@class='_3FpCg']\")\n",
    "#to remove extra data other than output we required\n",
    "year_Kolkata = [] #empty list\n",
    "for i in year:\n",
    "    year_Kolkata.append(i.text.split()[0])\n",
    "\n",
    "#extract the tag having model name\n",
    "model = web_driver.find_elements_by_xpath(\"//p[@class='cvakB']\")\n",
    "#to remove extra data other than output we required\n",
    "model_Kolkata = [] #empty list\n",
    "for i in model:\n",
    "    model_Kolkata.append(i.text)\n",
    "\n",
    "#extract the tag having Driven kilometer name\n",
    "km = web_driver.find_elements_by_xpath(\"//ul[@class='bVR0c']//li\")\n",
    "#to remove extra data other than output we required\n",
    "driven_km_Kolkata = [] #empty list\n",
    "for i in km[0: :3]:\n",
    "    driven_km_Kolkata.append(i.text)\n",
    "\n",
    "#extract the tag having fuel name\n",
    "fuel = web_driver.find_elements_by_xpath(\"//ul[@class='bVR0c']//li\")\n",
    "#to remove extra data other than output we required\n",
    "fuel_Kolkata = [] #empty list\n",
    "for i in fuel[2: :3]:\n",
    "    fuel_Kolkata.append(i.text)\n",
    "    \n",
    "#extract the tag having owner name\n",
    "owner = web_driver.find_elements_by_xpath(\"//ul[@class='bVR0c']//li\")\n",
    "#to remove extra data other than output we required\n",
    "no_of_owner_Kolkata = [] #empty list\n",
    "for i in owner[1: :3]:\n",
    "    no_of_owner_Kolkata.append(i.text)\n",
    "\n",
    "#extract the tag having price\n",
    "price = web_driver.find_elements_by_xpath(\"//div[@class='_7udZZ']\")\n",
    "#to remove extra data other than output we required\n",
    "price_Kolkata = [] #empty list\n",
    "for i in price:\n",
    "    price_Kolkata.append(i.text)\n",
    "\n",
    "#extract the tag having Monthly EMI\n",
    "EMI = web_driver.find_elements_by_xpath(\"//div[@class='_2HFRN']\")\n",
    "#to remove extra data other than output we required\n",
    "monthly_EMI_Kolkata = [] #empty list\n",
    "for i in EMI:\n",
    "    monthly_EMI_Kolkata.append(i.text)\n",
    "    \n",
    "#add the location list manually\n",
    "location_Kolkata = []\n",
    "for i in range(0,len(brand_Kolkata)):\n",
    "    i = \"Kolkata\"\n",
    "    location_Kolkata.append(i)"
   ]
  },
  {
   "cell_type": "code",
   "execution_count": 65,
   "id": "56b06ce8",
   "metadata": {},
   "outputs": [
    {
     "name": "stdout",
     "output_type": "stream",
     "text": [
      "181 181 181 181 181 181 181 181 181\n"
     ]
    }
   ],
   "source": [
    "print(len(brand_Kolkata), len(year_Kolkata), len(model_Kolkata), len(driven_km_Kolkata), len(fuel_Kolkata), \n",
    "      len(no_of_owner_Kolkata), len(price_Kolkata), len(monthly_EMI_Kolkata), len(location_Kolkata))"
   ]
  },
  {
   "cell_type": "markdown",
   "id": "6220d7fb",
   "metadata": {},
   "source": [
    "# 10. Used cars in Ahmedabad"
   ]
  },
  {
   "cell_type": "code",
   "execution_count": 66,
   "id": "ee0e2fa9",
   "metadata": {},
   "outputs": [],
   "source": [
    "#find element for used car location\n",
    "search_location =web_driver.find_element_by_xpath(\"//p[@class='_1V4-O']\")\n",
    "search_location.click()"
   ]
  },
  {
   "cell_type": "code",
   "execution_count": 67,
   "id": "9a23bb68",
   "metadata": {},
   "outputs": [],
   "source": [
    "#click on searched location icon\n",
    "search_location = web_driver.find_element_by_xpath(\"//ul[@class='popularCities _16Bvy']/li[10]\")\n",
    "search_location.click()"
   ]
  },
  {
   "cell_type": "code",
   "execution_count": 68,
   "id": "77dcabe7",
   "metadata": {},
   "outputs": [],
   "source": [
    "#for scrolling the page at the end\n",
    "for _ in range(1000):\n",
    "    web_driver.execute_script(\"window.scrollBy(0,10000)\")"
   ]
  },
  {
   "cell_type": "code",
   "execution_count": 69,
   "id": "7b6a18c4",
   "metadata": {},
   "outputs": [],
   "source": [
    "#extract the tag having brand name\n",
    "brand = web_driver.find_elements_by_xpath(\"//h2[@class='_3FpCg']\")\n",
    "#to remove extra data other than output we required\n",
    "brand_Ahmedabad = [] #empty list\n",
    "for i in brand:\n",
    "    brand_Ahmedabad.append(i.text)\n",
    "    \n",
    "#extract the tag having manufacturing year\n",
    "year = web_driver.find_elements_by_xpath(\"//h2[@class='_3FpCg']\")\n",
    "#to remove extra data other than output we required\n",
    "year_Ahmedabad = [] #empty list\n",
    "for i in year:\n",
    "    year_Ahmedabad.append(i.text.split()[0])\n",
    "\n",
    "#extract the tag having model name\n",
    "model = web_driver.find_elements_by_xpath(\"//p[@class='cvakB']\")\n",
    "#to remove extra data other than output we required\n",
    "model_Ahmedabad = [] #empty list\n",
    "for i in model:\n",
    "    model_Ahmedabad.append(i.text)\n",
    "\n",
    "#extract the tag having Driven kilometer name\n",
    "km = web_driver.find_elements_by_xpath(\"//ul[@class='bVR0c']//li\")\n",
    "#to remove extra data other than output we required\n",
    "driven_km_Ahmedabad = [] #empty list\n",
    "for i in km[0: :3]:\n",
    "    driven_km_Ahmedabad.append(i.text)\n",
    "\n",
    "#extract the tag having fuel name\n",
    "fuel = web_driver.find_elements_by_xpath(\"//ul[@class='bVR0c']//li\")\n",
    "#to remove extra data other than output we required\n",
    "fuel_Ahmedabad = [] #empty list\n",
    "for i in fuel[2: :3]:\n",
    "    fuel_Ahmedabad.append(i.text)\n",
    "    \n",
    "#extract the tag having owner name\n",
    "owner = web_driver.find_elements_by_xpath(\"//ul[@class='bVR0c']//li\")\n",
    "#to remove extra data other than output we required\n",
    "no_of_owner_Ahmedabad = [] #empty list\n",
    "for i in owner[1: :3]:\n",
    "    no_of_owner_Ahmedabad.append(i.text)\n",
    "\n",
    "#extract the tag having price\n",
    "price = web_driver.find_elements_by_xpath(\"//div[@class='_7udZZ']\")\n",
    "#to remove extra data other than output we required\n",
    "price_Ahmedabad = [] #empty list\n",
    "for i in price:\n",
    "    price_Ahmedabad.append(i.text)\n",
    "\n",
    "#extract the tag having Monthly EMI\n",
    "EMI = web_driver.find_elements_by_xpath(\"//div[@class='_2HFRN']\")\n",
    "#to remove extra data other than output we required\n",
    "monthly_EMI_Ahmedabad = [] #empty list\n",
    "for i in EMI:\n",
    "    monthly_EMI_Ahmedabad.append(i.text)\n",
    "    \n",
    "#add the location list manually\n",
    "location_Ahmedabad = []\n",
    "for i in range(0,len(brand_Ahmedabad)):\n",
    "    i = \"Ahmedabad\"\n",
    "    location_Ahmedabad.append(i)"
   ]
  },
  {
   "cell_type": "code",
   "execution_count": 70,
   "id": "3a4f6272",
   "metadata": {
    "scrolled": true
   },
   "outputs": [
    {
     "name": "stdout",
     "output_type": "stream",
     "text": [
      "402 402 402 402 402 402 402 402 402\n"
     ]
    }
   ],
   "source": [
    "print(len(brand_Ahmedabad), len(year_Ahmedabad), len(model_Ahmedabad), len(driven_km_Ahmedabad), len(fuel_Ahmedabad), \n",
    "      len(no_of_owner_Ahmedabad), len(price_Ahmedabad), len(monthly_EMI_Ahmedabad), len(location_Ahmedabad))"
   ]
  },
  {
   "cell_type": "markdown",
   "id": "852b5abc",
   "metadata": {},
   "source": [
    "# 11. Used cars in Chandigarh"
   ]
  },
  {
   "cell_type": "code",
   "execution_count": 71,
   "id": "46901f67",
   "metadata": {},
   "outputs": [],
   "source": [
    "#find element for used car location\n",
    "search_location =web_driver.find_element_by_xpath(\"//p[@class='_1V4-O']\")\n",
    "search_location.click()"
   ]
  },
  {
   "cell_type": "code",
   "execution_count": 72,
   "id": "108c32f4",
   "metadata": {},
   "outputs": [],
   "source": [
    "#find element for used car location\n",
    "search_location_by_text =web_driver.find_element_by_xpath(\"//div[@class='_6QaMX']/input\")\n",
    "search_location_by_text.send_keys(\"Chandigarh\")"
   ]
  },
  {
   "cell_type": "code",
   "execution_count": 73,
   "id": "bbf573db",
   "metadata": {},
   "outputs": [],
   "source": [
    "#select location \n",
    "select_location = web_driver.find_element_by_xpath(\"/html/body/div[1]/div[6]/div/div/div/div/div[2]/div/div/ul/div/li/a/span\")\n",
    "select_location.click()"
   ]
  },
  {
   "cell_type": "code",
   "execution_count": 74,
   "id": "e2f2ff3c",
   "metadata": {},
   "outputs": [],
   "source": [
    "#for scrolling the page at the end\n",
    "for _ in range(1000):\n",
    "    web_driver.execute_script(\"window.scrollBy(0,10000)\")"
   ]
  },
  {
   "cell_type": "code",
   "execution_count": 75,
   "id": "19cfa5da",
   "metadata": {},
   "outputs": [],
   "source": [
    "#extract the tag having brand name\n",
    "brand = web_driver.find_elements_by_xpath(\"//h2[@class='_3FpCg']\")\n",
    "#to remove extra data other than output we required\n",
    "brand_Chandigarh = [] #empty list\n",
    "for i in brand:\n",
    "    brand_Chandigarh.append(i.text)\n",
    "    \n",
    "#extract the tag having manufacturing year\n",
    "year = web_driver.find_elements_by_xpath(\"//h2[@class='_3FpCg']\")\n",
    "#to remove extra data other than output we required\n",
    "year_Chandigarh = [] #empty list\n",
    "for i in year:\n",
    "    year_Chandigarh.append(i.text.split()[0])\n",
    "\n",
    "#extract the tag having model name\n",
    "model = web_driver.find_elements_by_xpath(\"//p[@class='cvakB']\")\n",
    "#to remove extra data other than output we required\n",
    "model_Chandigarh = [] #empty list\n",
    "for i in model:\n",
    "    model_Chandigarh.append(i.text)\n",
    "\n",
    "#extract the tag having Driven kilometer name\n",
    "km = web_driver.find_elements_by_xpath(\"//ul[@class='bVR0c']//li\")\n",
    "#to remove extra data other than output we required\n",
    "driven_km_Chandigarh = [] #empty list\n",
    "for i in km[0: :3]:\n",
    "    driven_km_Chandigarh.append(i.text)\n",
    "\n",
    "#extract the tag having fuel name\n",
    "fuel = web_driver.find_elements_by_xpath(\"//ul[@class='bVR0c']//li\")\n",
    "#to remove extra data other than output we required\n",
    "fuel_Chandigarh = [] #empty list\n",
    "for i in fuel[2: :3]:\n",
    "    fuel_Chandigarh.append(i.text)\n",
    "    \n",
    "#extract the tag having owner name\n",
    "owner = web_driver.find_elements_by_xpath(\"//ul[@class='bVR0c']//li\")\n",
    "#to remove extra data other than output we required\n",
    "no_of_owner_Chandigarh = [] #empty list\n",
    "for i in owner[1: :3]:\n",
    "    no_of_owner_Chandigarh.append(i.text)\n",
    "\n",
    "#extract the tag having price\n",
    "price = web_driver.find_elements_by_xpath(\"//div[@class='_7udZZ']\")\n",
    "#to remove extra data other than output we required\n",
    "price_Chandigarh = [] #empty list\n",
    "for i in price:\n",
    "    price_Chandigarh.append(i.text)\n",
    "\n",
    "#extract the tag having Monthly EMI\n",
    "EMI = web_driver.find_elements_by_xpath(\"//div[@class='_2HFRN']\")\n",
    "#to remove extra data other than output we required\n",
    "monthly_EMI_Chandigarh = [] #empty list\n",
    "for i in EMI:\n",
    "    monthly_EMI_Chandigarh.append(i.text)\n",
    "    \n",
    "#add the location list manually\n",
    "location_Chandigarh = []\n",
    "for i in range(0,len(brand_Chandigarh)):\n",
    "    i = \"Chandigarh\"\n",
    "    location_Chandigarh.append(i)"
   ]
  },
  {
   "cell_type": "code",
   "execution_count": 76,
   "id": "fc488bf1",
   "metadata": {
    "scrolled": true
   },
   "outputs": [
    {
     "name": "stdout",
     "output_type": "stream",
     "text": [
      "125 125 125 125 125 125 125 125 125\n"
     ]
    }
   ],
   "source": [
    "print(len(brand_Chandigarh), len(year_Chandigarh), len(model_Chandigarh), len(driven_km_Chandigarh), len(fuel_Chandigarh), \n",
    "      len(no_of_owner_Chandigarh), len(price_Chandigarh), len(monthly_EMI_Chandigarh), len(location_Chandigarh))"
   ]
  },
  {
   "cell_type": "markdown",
   "id": "f6dcc35c",
   "metadata": {},
   "source": [
    "# 12. Used cars in Jaipur"
   ]
  },
  {
   "cell_type": "code",
   "execution_count": 77,
   "id": "a88ece92",
   "metadata": {},
   "outputs": [],
   "source": [
    "#find element for used car location\n",
    "search_location =web_driver.find_element_by_xpath(\"//p[@class='_1V4-O']\")\n",
    "search_location.click()"
   ]
  },
  {
   "cell_type": "code",
   "execution_count": 78,
   "id": "8e5875c3",
   "metadata": {},
   "outputs": [],
   "source": [
    "#find element for used car location\n",
    "search_location_by_text =web_driver.find_element_by_xpath(\"//div[@class='_6QaMX']/input\")\n",
    "search_location_by_text.send_keys(\"Jaipur\")"
   ]
  },
  {
   "cell_type": "code",
   "execution_count": 79,
   "id": "1ed5626f",
   "metadata": {},
   "outputs": [],
   "source": [
    "#select location \n",
    "select_location = web_driver.find_element_by_xpath(\"/html/body/div[1]/div[6]/div/div/div/div/div[2]/div/div/ul/div/li/a/span\")\n",
    "select_location.click()"
   ]
  },
  {
   "cell_type": "code",
   "execution_count": 80,
   "id": "a2ef90e7",
   "metadata": {},
   "outputs": [],
   "source": [
    "#for scrolling the page at the end\n",
    "for _ in range(1000):\n",
    "    web_driver.execute_script(\"window.scrollBy(0,10000)\")"
   ]
  },
  {
   "cell_type": "code",
   "execution_count": 81,
   "id": "95b58dd8",
   "metadata": {},
   "outputs": [],
   "source": [
    "#extract the tag having brand name\n",
    "brand = web_driver.find_elements_by_xpath(\"//h2[@class='_3FpCg']\")\n",
    "#to remove extra data other than output we required\n",
    "brand_Jaipur = [] #empty list\n",
    "for i in brand:\n",
    "    brand_Jaipur.append(i.text)\n",
    "    \n",
    "#extract the tag having manufacturing year\n",
    "year = web_driver.find_elements_by_xpath(\"//h2[@class='_3FpCg']\")\n",
    "#to remove extra data other than output we required\n",
    "year_Jaipur = [] #empty list\n",
    "for i in year:\n",
    "    year_Jaipur.append(i.text.split()[0])\n",
    "\n",
    "#extract the tag having model name\n",
    "model = web_driver.find_elements_by_xpath(\"//p[@class='cvakB']\")\n",
    "#to remove extra data other than output we required\n",
    "model_Jaipur = [] #empty list\n",
    "for i in model:\n",
    "    model_Jaipur.append(i.text)\n",
    "\n",
    "#extract the tag having Driven kilometer name\n",
    "km = web_driver.find_elements_by_xpath(\"//ul[@class='bVR0c']//li\")\n",
    "#to remove extra data other than output we required\n",
    "driven_km_Jaipur = [] #empty list\n",
    "for i in km[0: :3]:\n",
    "    driven_km_Jaipur.append(i.text)\n",
    "\n",
    "#extract the tag having fuel name\n",
    "fuel = web_driver.find_elements_by_xpath(\"//ul[@class='bVR0c']//li\")\n",
    "#to remove extra data other than output we required\n",
    "fuel_Jaipur = [] #empty list\n",
    "for i in fuel[2: :3]:\n",
    "    fuel_Jaipur.append(i.text)\n",
    "    \n",
    "#extract the tag having owner name\n",
    "owner = web_driver.find_elements_by_xpath(\"//ul[@class='bVR0c']//li\")\n",
    "#to remove extra data other than output we required\n",
    "no_of_owner_Jaipur = [] #empty list\n",
    "for i in owner[1: :3]:\n",
    "    no_of_owner_Jaipur.append(i.text)\n",
    "\n",
    "#extract the tag having price\n",
    "price = web_driver.find_elements_by_xpath(\"//div[@class='_7udZZ']\")\n",
    "#to remove extra data other than output we required\n",
    "price_Jaipur = [] #empty list\n",
    "for i in price:\n",
    "    price_Jaipur.append(i.text)\n",
    "\n",
    "#extract the tag having Monthly EMI\n",
    "EMI = web_driver.find_elements_by_xpath(\"//div[@class='_2HFRN']\")\n",
    "#to remove extra data other than output we required\n",
    "monthly_EMI_Jaipur = [] #empty list\n",
    "for i in EMI:\n",
    "    monthly_EMI_Jaipur.append(i.text)\n",
    "    \n",
    "#add the location list manually\n",
    "location_Jaipur = []\n",
    "for i in range(0,len(brand_Jaipur)):\n",
    "    i = \"Jaipur\"\n",
    "    location_Jaipur.append(i)"
   ]
  },
  {
   "cell_type": "code",
   "execution_count": 82,
   "id": "474eea75",
   "metadata": {
    "scrolled": true
   },
   "outputs": [
    {
     "name": "stdout",
     "output_type": "stream",
     "text": [
      "142 142 142 142 142 142 142 142 142\n"
     ]
    }
   ],
   "source": [
    "print(len(brand_Jaipur), len(year_Jaipur), len(model_Jaipur), len(driven_km_Jaipur), len(fuel_Jaipur), \n",
    "      len(no_of_owner_Jaipur), len(price_Jaipur), len(monthly_EMI_Jaipur), len(location_Jaipur))"
   ]
  },
  {
   "cell_type": "markdown",
   "id": "ce93ba23",
   "metadata": {},
   "source": [
    "# 13. Used cars in Vadodara"
   ]
  },
  {
   "cell_type": "code",
   "execution_count": 83,
   "id": "13c33db7",
   "metadata": {},
   "outputs": [],
   "source": [
    "#find element for used car location\n",
    "search_location =web_driver.find_element_by_xpath(\"//p[@class='_1V4-O']\")\n",
    "search_location.click()"
   ]
  },
  {
   "cell_type": "code",
   "execution_count": 84,
   "id": "5d3e9f86",
   "metadata": {},
   "outputs": [],
   "source": [
    "#find element for used car location\n",
    "search_location_by_text =web_driver.find_element_by_xpath(\"//div[@class='_6QaMX']/input\")\n",
    "search_location_by_text.send_keys(\"Vadodara\")"
   ]
  },
  {
   "cell_type": "code",
   "execution_count": 85,
   "id": "e2ca7eba",
   "metadata": {},
   "outputs": [],
   "source": [
    "#select location \n",
    "select_location = web_driver.find_element_by_xpath(\"/html/body/div[1]/div[6]/div/div/div/div/div[2]/div/div/ul/div/li/a/span\")\n",
    "select_location.click()"
   ]
  },
  {
   "cell_type": "code",
   "execution_count": 86,
   "id": "f0edb0b4",
   "metadata": {},
   "outputs": [],
   "source": [
    "#for scrolling the page at the end\n",
    "for _ in range(1000):\n",
    "    web_driver.execute_script(\"window.scrollBy(0,10000)\")"
   ]
  },
  {
   "cell_type": "code",
   "execution_count": 87,
   "id": "0a008630",
   "metadata": {},
   "outputs": [],
   "source": [
    "#extract the tag having brand name\n",
    "brand = web_driver.find_elements_by_xpath(\"//h2[@class='_3FpCg']\")\n",
    "#to remove extra data other than output we required\n",
    "brand_Vadodara = [] #empty list\n",
    "for i in brand:\n",
    "    brand_Vadodara.append(i.text)\n",
    "    \n",
    "#extract the tag having manufacturing year\n",
    "year = web_driver.find_elements_by_xpath(\"//h2[@class='_3FpCg']\")\n",
    "#to remove extra data other than output we required\n",
    "year_Vadodara = [] #empty list\n",
    "for i in year:\n",
    "    year_Vadodara.append(i.text.split()[0])\n",
    "\n",
    "#extract the tag having model name\n",
    "model = web_driver.find_elements_by_xpath(\"//p[@class='cvakB']\")\n",
    "#to remove extra data other than output we required\n",
    "model_Vadodara = [] #empty list\n",
    "for i in model:\n",
    "    model_Vadodara.append(i.text)\n",
    "\n",
    "#extract the tag having Driven kilometer name\n",
    "km = web_driver.find_elements_by_xpath(\"//ul[@class='bVR0c']//li\")\n",
    "#to remove extra data other than output we required\n",
    "driven_km_Vadodara = [] #empty list\n",
    "for i in km[0: :3]:\n",
    "    driven_km_Vadodara.append(i.text)\n",
    "\n",
    "#extract the tag having fuel name\n",
    "fuel = web_driver.find_elements_by_xpath(\"//ul[@class='bVR0c']//li\")\n",
    "#to remove extra data other than output we required\n",
    "fuel_Vadodara = [] #empty list\n",
    "for i in fuel[2: :3]:\n",
    "    fuel_Vadodara.append(i.text)\n",
    "    \n",
    "#extract the tag having owner name\n",
    "owner = web_driver.find_elements_by_xpath(\"//ul[@class='bVR0c']//li\")\n",
    "#to remove extra data other than output we required\n",
    "no_of_owner_Vadodara = [] #empty list\n",
    "for i in owner[1: :3]:\n",
    "    no_of_owner_Vadodara.append(i.text)\n",
    "\n",
    "#extract the tag having price\n",
    "price = web_driver.find_elements_by_xpath(\"//div[@class='_7udZZ']\")\n",
    "#to remove extra data other than output we required\n",
    "price_Vadodara = [] #empty list\n",
    "for i in price:\n",
    "    price_Vadodara.append(i.text)\n",
    "\n",
    "#extract the tag having Monthly EMI\n",
    "EMI = web_driver.find_elements_by_xpath(\"//div[@class='_2HFRN']\")\n",
    "#to remove extra data other than output we required\n",
    "monthly_EMI_Vadodara = [] #empty list\n",
    "for i in EMI:\n",
    "    monthly_EMI_Vadodara.append(i.text)\n",
    "    \n",
    "#add the location list manually\n",
    "location_Vadodara = []\n",
    "for i in range(0,len(brand_Vadodara)):\n",
    "    i = \"Vadodara\"\n",
    "    location_Vadodara.append(i)"
   ]
  },
  {
   "cell_type": "code",
   "execution_count": 88,
   "id": "1f218932",
   "metadata": {},
   "outputs": [
    {
     "name": "stdout",
     "output_type": "stream",
     "text": [
      "402 402 402 402 402 402 402 402 402\n"
     ]
    }
   ],
   "source": [
    "print(len(brand_Vadodara), len(year_Vadodara), len(model_Vadodara), len(driven_km_Vadodara), len(fuel_Vadodara), \n",
    "      len(no_of_owner_Vadodara), len(price_Vadodara), len(monthly_EMI_Vadodara), len(location_Vadodara))"
   ]
  },
  {
   "cell_type": "markdown",
   "id": "0bcc9dba",
   "metadata": {},
   "source": [
    "# 14. Used cars in Surat"
   ]
  },
  {
   "cell_type": "code",
   "execution_count": 89,
   "id": "4234ecda",
   "metadata": {},
   "outputs": [],
   "source": [
    "#find element for used car location\n",
    "search_location =web_driver.find_element_by_xpath(\"//p[@class='_1V4-O']\")\n",
    "search_location.click()"
   ]
  },
  {
   "cell_type": "code",
   "execution_count": 90,
   "id": "a97daac5",
   "metadata": {},
   "outputs": [],
   "source": [
    "#find element for used car location\n",
    "search_location_by_text =web_driver.find_element_by_xpath(\"//div[@class='_6QaMX']/input\")\n",
    "search_location_by_text.send_keys(\"Surat\")"
   ]
  },
  {
   "cell_type": "code",
   "execution_count": 93,
   "id": "a1e9c387",
   "metadata": {},
   "outputs": [],
   "source": [
    "#select location \n",
    "select_location = web_driver.find_element_by_xpath(\"/html/body/div[1]/div[6]/div/div/div/div/div[2]/div/div/ul/div/li/a/span\")\n",
    "select_location.click()"
   ]
  },
  {
   "cell_type": "code",
   "execution_count": 94,
   "id": "a8de9eb0",
   "metadata": {},
   "outputs": [],
   "source": [
    "#for scrolling the page at the end\n",
    "for _ in range(1000):\n",
    "    web_driver.execute_script(\"window.scrollBy(0,10000)\")"
   ]
  },
  {
   "cell_type": "code",
   "execution_count": 95,
   "id": "bcb273a6",
   "metadata": {},
   "outputs": [],
   "source": [
    "#extract the tag having brand name\n",
    "brand = web_driver.find_elements_by_xpath(\"//h2[@class='_3FpCg']\")\n",
    "#to remove extra data other than output we required\n",
    "brand_Surat = [] #empty list\n",
    "for i in brand:\n",
    "    brand_Surat.append(i.text)\n",
    "    \n",
    "#extract the tag having manufacturing year\n",
    "year = web_driver.find_elements_by_xpath(\"//h2[@class='_3FpCg']\")\n",
    "#to remove extra data other than output we required\n",
    "year_Surat = [] #empty list\n",
    "for i in year:\n",
    "    year_Surat.append(i.text.split()[0])\n",
    "\n",
    "#extract the tag having model name\n",
    "model = web_driver.find_elements_by_xpath(\"//p[@class='cvakB']\")\n",
    "#to remove extra data other than output we required\n",
    "model_Surat = [] #empty list\n",
    "for i in model:\n",
    "    model_Surat.append(i.text)\n",
    "\n",
    "#extract the tag having Driven kilometer name\n",
    "km = web_driver.find_elements_by_xpath(\"//ul[@class='bVR0c']//li\")\n",
    "#to remove extra data other than output we required\n",
    "driven_km_Surat = [] #empty list\n",
    "for i in km[0: :3]:\n",
    "    driven_km_Surat.append(i.text)\n",
    "\n",
    "#extract the tag having fuel name\n",
    "fuel = web_driver.find_elements_by_xpath(\"//ul[@class='bVR0c']//li\")\n",
    "#to remove extra data other than output we required\n",
    "fuel_Surat = [] #empty list\n",
    "for i in fuel[2: :3]:\n",
    "    fuel_Surat.append(i.text)\n",
    "    \n",
    "#extract the tag having owner name\n",
    "owner = web_driver.find_elements_by_xpath(\"//ul[@class='bVR0c']//li\")\n",
    "#to remove extra data other than output we required\n",
    "no_of_owner_Surat = [] #empty list\n",
    "for i in owner[1: :3]:\n",
    "    no_of_owner_Surat.append(i.text)\n",
    "\n",
    "#extract the tag having price\n",
    "price = web_driver.find_elements_by_xpath(\"//div[@class='_7udZZ']\")\n",
    "#to remove extra data other than output we required\n",
    "price_Surat = [] #empty list\n",
    "for i in price:\n",
    "    price_Surat.append(i.text)\n",
    "\n",
    "#extract the tag having Monthly EMI\n",
    "EMI = web_driver.find_elements_by_xpath(\"//div[@class='_2HFRN']\")\n",
    "#to remove extra data other than output we required\n",
    "monthly_EMI_Surat = [] #empty list\n",
    "for i in EMI:\n",
    "    monthly_EMI_Surat.append(i.text)\n",
    "    \n",
    "#add the location list manually\n",
    "location_Surat = []\n",
    "for i in range(0,len(brand_Surat)):\n",
    "    i = \"Surat\"\n",
    "    location_Surat.append(i)"
   ]
  },
  {
   "cell_type": "code",
   "execution_count": 96,
   "id": "cf8f9dca",
   "metadata": {
    "scrolled": true
   },
   "outputs": [
    {
     "name": "stdout",
     "output_type": "stream",
     "text": [
      "54 54 54 54 54 54 54 54 54\n"
     ]
    }
   ],
   "source": [
    "print(len(brand_Surat), len(year_Surat), len(model_Surat), len(driven_km_Surat), len(fuel_Surat), \n",
    "      len(no_of_owner_Surat), len(price_Surat), len(monthly_EMI_Surat), len(location_Surat))"
   ]
  },
  {
   "cell_type": "markdown",
   "id": "1e26421b",
   "metadata": {},
   "source": [
    "# 15. Used cars in Coimbatore"
   ]
  },
  {
   "cell_type": "code",
   "execution_count": 97,
   "id": "59aa35db",
   "metadata": {},
   "outputs": [],
   "source": [
    "#find element for used car location\n",
    "search_location =web_driver.find_element_by_xpath(\"//p[@class='_1V4-O']\")\n",
    "search_location.click()"
   ]
  },
  {
   "cell_type": "code",
   "execution_count": 98,
   "id": "a7284274",
   "metadata": {},
   "outputs": [],
   "source": [
    "#find element for used car location\n",
    "search_location_by_text =web_driver.find_element_by_xpath(\"//div[@class='_6QaMX']/input\")\n",
    "search_location_by_text.send_keys(\"Coimbatore\")"
   ]
  },
  {
   "cell_type": "code",
   "execution_count": 99,
   "id": "9b6e3cb1",
   "metadata": {},
   "outputs": [],
   "source": [
    "#select location \n",
    "select_location = web_driver.find_element_by_xpath(\"/html/body/div[1]/div[6]/div/div/div/div/div[2]/div/div/ul/div/li/a/span\")\n",
    "select_location.click()"
   ]
  },
  {
   "cell_type": "code",
   "execution_count": 100,
   "id": "c968e8f7",
   "metadata": {},
   "outputs": [],
   "source": [
    "#for scrolling the page at the end\n",
    "for _ in range(1000):\n",
    "    web_driver.execute_script(\"window.scrollBy(0,10000)\")"
   ]
  },
  {
   "cell_type": "code",
   "execution_count": 101,
   "id": "5c3c5040",
   "metadata": {},
   "outputs": [],
   "source": [
    "#extract the tag having brand name\n",
    "brand = web_driver.find_elements_by_xpath(\"//h2[@class='_3FpCg']\")\n",
    "#to remove extra data other than output we required\n",
    "brand_Coimbatore = [] #empty list\n",
    "for i in brand:\n",
    "    brand_Coimbatore.append(i.text)\n",
    "    \n",
    "#extract the tag having manufacturing year\n",
    "year = web_driver.find_elements_by_xpath(\"//h2[@class='_3FpCg']\")\n",
    "#to remove extra data other than output we required\n",
    "year_Coimbatore = [] #empty list\n",
    "for i in year:\n",
    "    year_Coimbatore.append(i.text.split()[0])\n",
    "\n",
    "#extract the tag having model name\n",
    "model = web_driver.find_elements_by_xpath(\"//p[@class='cvakB']\")\n",
    "#to remove extra data other than output we required\n",
    "model_Coimbatore = [] #empty list\n",
    "for i in model:\n",
    "    model_Coimbatore.append(i.text)\n",
    "\n",
    "#extract the tag having Driven kilometer name\n",
    "km = web_driver.find_elements_by_xpath(\"//ul[@class='bVR0c']//li\")\n",
    "#to remove extra data other than output we required\n",
    "driven_km_Coimbatore = [] #empty list\n",
    "for i in km[0: :3]:\n",
    "    driven_km_Coimbatore.append(i.text)\n",
    "\n",
    "#extract the tag having fuel name\n",
    "fuel = web_driver.find_elements_by_xpath(\"//ul[@class='bVR0c']//li\")\n",
    "#to remove extra data other than output we required\n",
    "fuel_Coimbatore = [] #empty list\n",
    "for i in fuel[2: :3]:\n",
    "    fuel_Coimbatore.append(i.text)\n",
    "    \n",
    "#extract the tag having owner name\n",
    "owner = web_driver.find_elements_by_xpath(\"//ul[@class='bVR0c']//li\")\n",
    "#to remove extra data other than output we required\n",
    "no_of_owner_Coimbatore = [] #empty list\n",
    "for i in owner[1: :3]:\n",
    "    no_of_owner_Coimbatore.append(i.text)\n",
    "\n",
    "#extract the tag having price\n",
    "price = web_driver.find_elements_by_xpath(\"//div[@class='_7udZZ']\")\n",
    "#to remove extra data other than output we required\n",
    "price_Coimbatore = [] #empty list\n",
    "for i in price:\n",
    "    price_Coimbatore.append(i.text)\n",
    "\n",
    "#extract the tag having Monthly EMI\n",
    "EMI = web_driver.find_elements_by_xpath(\"//div[@class='_2HFRN']\")\n",
    "#to remove extra data other than output we required\n",
    "monthly_EMI_Coimbatore = [] #empty list\n",
    "for i in EMI:\n",
    "    monthly_EMI_Coimbatore.append(i.text)\n",
    "    \n",
    "#add the location list manually\n",
    "location_Coimbatore = []\n",
    "for i in range(0,len(brand_Coimbatore)):\n",
    "    i = \"Coimbatore\"\n",
    "    location_Coimbatore.append(i)"
   ]
  },
  {
   "cell_type": "code",
   "execution_count": 102,
   "id": "b8b9c30e",
   "metadata": {},
   "outputs": [
    {
     "name": "stdout",
     "output_type": "stream",
     "text": [
      "36 36 36 36 36 36 36 36 36\n"
     ]
    }
   ],
   "source": [
    "print(len(brand_Coimbatore), len(year_Coimbatore), len(model_Coimbatore), len(driven_km_Coimbatore), len(fuel_Coimbatore), \n",
    "      len(no_of_owner_Coimbatore), len(price_Coimbatore), len(monthly_EMI_Coimbatore), len(location_Coimbatore))"
   ]
  },
  {
   "cell_type": "markdown",
   "id": "69e5cc60",
   "metadata": {},
   "source": [
    "# 16. Used cars in Bhopal"
   ]
  },
  {
   "cell_type": "code",
   "execution_count": 103,
   "id": "656bb6d1",
   "metadata": {},
   "outputs": [],
   "source": [
    "#find element for used car location\n",
    "search_location =web_driver.find_element_by_xpath(\"//p[@class='_1V4-O']\")\n",
    "search_location.click()"
   ]
  },
  {
   "cell_type": "code",
   "execution_count": 104,
   "id": "0f0ecd34",
   "metadata": {},
   "outputs": [],
   "source": [
    "#find element for used car location\n",
    "search_location_by_text =web_driver.find_element_by_xpath(\"//div[@class='_6QaMX']/input\")\n",
    "search_location_by_text.send_keys(\"Bhopal\")"
   ]
  },
  {
   "cell_type": "code",
   "execution_count": 105,
   "id": "8135f018",
   "metadata": {},
   "outputs": [],
   "source": [
    "#select location \n",
    "select_location = web_driver.find_element_by_xpath(\"/html/body/div[1]/div[6]/div/div/div/div/div[2]/div/div/ul/div/li/a/span\")\n",
    "select_location.click()"
   ]
  },
  {
   "cell_type": "code",
   "execution_count": 106,
   "id": "7d384c1c",
   "metadata": {},
   "outputs": [],
   "source": [
    "#for scrolling the page at the end\n",
    "for _ in range(1000):\n",
    "    web_driver.execute_script(\"window.scrollBy(0,10000)\")"
   ]
  },
  {
   "cell_type": "code",
   "execution_count": 107,
   "id": "f0269028",
   "metadata": {},
   "outputs": [],
   "source": [
    "#extract the tag having brand name\n",
    "brand = web_driver.find_elements_by_xpath(\"//h2[@class='_3FpCg']\")\n",
    "#to remove extra data other than output we required\n",
    "brand_Bhopal = [] #empty list\n",
    "for i in brand:\n",
    "    brand_Bhopal.append(i.text)\n",
    "    \n",
    "#extract the tag having manufacturing year\n",
    "year = web_driver.find_elements_by_xpath(\"//h2[@class='_3FpCg']\")\n",
    "#to remove extra data other than output we required\n",
    "year_Bhopal = [] #empty list\n",
    "for i in year:\n",
    "    year_Bhopal.append(i.text.split()[0])\n",
    "\n",
    "#extract the tag having model name\n",
    "model = web_driver.find_elements_by_xpath(\"//p[@class='cvakB']\")\n",
    "#to remove extra data other than output we required\n",
    "model_Bhopal = [] #empty list\n",
    "for i in model:\n",
    "    model_Bhopal.append(i.text)\n",
    "\n",
    "#extract the tag having Driven kilometer name\n",
    "km = web_driver.find_elements_by_xpath(\"//ul[@class='bVR0c']//li\")\n",
    "#to remove extra data other than output we required\n",
    "driven_km_Bhopal = [] #empty list\n",
    "for i in km[0: :3]:\n",
    "    driven_km_Bhopal.append(i.text)\n",
    "\n",
    "#extract the tag having fuel name\n",
    "fuel = web_driver.find_elements_by_xpath(\"//ul[@class='bVR0c']//li\")\n",
    "#to remove extra data other than output we required\n",
    "fuel_Bhopal = [] #empty list\n",
    "for i in fuel[2: :3]:\n",
    "    fuel_Bhopal.append(i.text)\n",
    "    \n",
    "#extract the tag having owner name\n",
    "owner = web_driver.find_elements_by_xpath(\"//ul[@class='bVR0c']//li\")\n",
    "#to remove extra data other than output we required\n",
    "no_of_owner_Bhopal = [] #empty list\n",
    "for i in owner[1: :3]:\n",
    "    no_of_owner_Bhopal.append(i.text)\n",
    "\n",
    "#extract the tag having price\n",
    "price = web_driver.find_elements_by_xpath(\"//div[@class='_7udZZ']\")\n",
    "#to remove extra data other than output we required\n",
    "price_Bhopal = [] #empty list\n",
    "for i in price:\n",
    "    price_Bhopal.append(i.text)\n",
    "\n",
    "#extract the tag having Monthly EMI\n",
    "EMI = web_driver.find_elements_by_xpath(\"//div[@class='_2HFRN']\")\n",
    "#to remove extra data other than output we required\n",
    "monthly_EMI_Bhopal = [] #empty list\n",
    "for i in EMI:\n",
    "    monthly_EMI_Bhopal.append(i.text)\n",
    "    \n",
    "#add the location list manually\n",
    "location_Bhopal = []\n",
    "for i in range(0,len(brand_Bhopal)):\n",
    "    i = \"Bhopal\"\n",
    "    location_Bhopal.append(i)"
   ]
  },
  {
   "cell_type": "code",
   "execution_count": 109,
   "id": "f6f58923",
   "metadata": {},
   "outputs": [
    {
     "name": "stdout",
     "output_type": "stream",
     "text": [
      "114 114 114 114 114 114 114 114 114\n"
     ]
    }
   ],
   "source": [
    "print(len(brand_Bhopal), len(year_Bhopal), len(model_Bhopal), len(driven_km_Bhopal), len(fuel_Bhopal), \n",
    "      len(no_of_owner_Bhopal), len(price_Bhopal), len(monthly_EMI_Bhopal), len(location_Bhopal))"
   ]
  },
  {
   "cell_type": "markdown",
   "id": "e4174c28",
   "metadata": {},
   "source": [
    "# 17. Used cars in Ghaziabad"
   ]
  },
  {
   "cell_type": "code",
   "execution_count": 110,
   "id": "b33eca1c",
   "metadata": {},
   "outputs": [],
   "source": [
    "#find element for used car location\n",
    "search_location =web_driver.find_element_by_xpath(\"//p[@class='_1V4-O']\")\n",
    "search_location.click()"
   ]
  },
  {
   "cell_type": "code",
   "execution_count": 111,
   "id": "d88262fb",
   "metadata": {},
   "outputs": [],
   "source": [
    "#find element for used car location\n",
    "search_location_by_text =web_driver.find_element_by_xpath(\"//div[@class='_6QaMX']/input\")\n",
    "search_location_by_text.send_keys(\"Ghaziabad\")"
   ]
  },
  {
   "cell_type": "code",
   "execution_count": 113,
   "id": "c2a9d762",
   "metadata": {},
   "outputs": [],
   "source": [
    "#select location \n",
    "select_location = web_driver.find_element_by_xpath(\"/html/body/div[1]/div[6]/div/div/div/div/div[2]/div/div/ul/div/li/a/span\")\n",
    "select_location.click()"
   ]
  },
  {
   "cell_type": "code",
   "execution_count": 114,
   "id": "63771a28",
   "metadata": {},
   "outputs": [],
   "source": [
    "#for scrolling the page at the end\n",
    "for _ in range(1000):\n",
    "    web_driver.execute_script(\"window.scrollBy(0,10000)\")"
   ]
  },
  {
   "cell_type": "code",
   "execution_count": 115,
   "id": "7c5395dd",
   "metadata": {},
   "outputs": [],
   "source": [
    "#extract the tag having brand name\n",
    "brand = web_driver.find_elements_by_xpath(\"//h2[@class='_3FpCg']\")\n",
    "#to remove extra data other than output we required\n",
    "brand_Ghaziabad = [] #empty list\n",
    "for i in brand:\n",
    "    brand_Ghaziabad.append(i.text)\n",
    "    \n",
    "#extract the tag having manufacturing year\n",
    "year = web_driver.find_elements_by_xpath(\"//h2[@class='_3FpCg']\")\n",
    "#to remove extra data other than output we required\n",
    "year_Ghaziabad = [] #empty list\n",
    "for i in year:\n",
    "    year_Ghaziabad.append(i.text.split()[0])\n",
    "\n",
    "#extract the tag having model name\n",
    "model = web_driver.find_elements_by_xpath(\"//p[@class='cvakB']\")\n",
    "#to remove extra data other than output we required\n",
    "model_Ghaziabad = [] #empty list\n",
    "for i in model:\n",
    "    model_Ghaziabad.append(i.text)\n",
    "\n",
    "#extract the tag having Driven kilometer name\n",
    "km = web_driver.find_elements_by_xpath(\"//ul[@class='bVR0c']//li\")\n",
    "#to remove extra data other than output we required\n",
    "driven_km_Ghaziabad = [] #empty list\n",
    "for i in km[0: :3]:\n",
    "    driven_km_Ghaziabad.append(i.text)\n",
    "\n",
    "#extract the tag having fuel name\n",
    "fuel = web_driver.find_elements_by_xpath(\"//ul[@class='bVR0c']//li\")\n",
    "#to remove extra data other than output we required\n",
    "fuel_Ghaziabad = [] #empty list\n",
    "for i in fuel[2: :3]:\n",
    "    fuel_Ghaziabad.append(i.text)\n",
    "    \n",
    "#extract the tag having owner name\n",
    "owner = web_driver.find_elements_by_xpath(\"//ul[@class='bVR0c']//li\")\n",
    "#to remove extra data other than output we required\n",
    "no_of_owner_Ghaziabad = [] #empty list\n",
    "for i in owner[1: :3]:\n",
    "    no_of_owner_Ghaziabad.append(i.text)\n",
    "\n",
    "#extract the tag having price\n",
    "price = web_driver.find_elements_by_xpath(\"//div[@class='_7udZZ']\")\n",
    "#to remove extra data other than output we required\n",
    "price_Ghaziabad = [] #empty list\n",
    "for i in price:\n",
    "    price_Ghaziabad.append(i.text)\n",
    "\n",
    "#extract the tag having Monthly EMI\n",
    "EMI = web_driver.find_elements_by_xpath(\"//div[@class='_2HFRN']\")\n",
    "#to remove extra data other than output we required\n",
    "monthly_EMI_Ghaziabad = [] #empty list\n",
    "for i in EMI:\n",
    "    monthly_EMI_Ghaziabad.append(i.text)\n",
    "    \n",
    "#add the location list manually\n",
    "location_Ghaziabad = []\n",
    "for i in range(0,len(brand_Ghaziabad)):\n",
    "    i = \"Ghaziabad\"\n",
    "    location_Ghaziabad.append(i)"
   ]
  },
  {
   "cell_type": "code",
   "execution_count": 116,
   "id": "6d4acb3d",
   "metadata": {
    "scrolled": true
   },
   "outputs": [
    {
     "name": "stdout",
     "output_type": "stream",
     "text": [
      "613 613 613 613 613 613 613 613 613\n"
     ]
    }
   ],
   "source": [
    "print(len(brand_Ghaziabad), len(year_Ghaziabad), len(model_Ghaziabad), len(driven_km_Ghaziabad), len(fuel_Ghaziabad), \n",
    "      len(no_of_owner_Ghaziabad), len(price_Ghaziabad), len(monthly_EMI_Ghaziabad), len(location_Ghaziabad))"
   ]
  },
  {
   "cell_type": "code",
   "execution_count": 117,
   "id": "2a8738fb",
   "metadata": {},
   "outputs": [
    {
     "data": {
      "text/plain": [
       "6088"
      ]
     },
     "execution_count": 117,
     "metadata": {},
     "output_type": "execute_result"
    }
   ],
   "source": [
    "BRAND_Name = brand_Pune + brand_Delhi + brand_Noida + brand_Bengluru + brand_Chennai + brand_Gurgaon + brand_Mumbai + brand_Hyderabad + brand_Kolkata + brand_Ahmedabad + brand_Chandigarh + brand_Jaipur + brand_Vadodara + brand_Surat + brand_Coimbatore + brand_Bhopal + brand_Ghaziabad\n",
    "len(BRAND_Name)"
   ]
  },
  {
   "cell_type": "code",
   "execution_count": 118,
   "id": "b33e7e31",
   "metadata": {},
   "outputs": [
    {
     "data": {
      "text/plain": [
       "6088"
      ]
     },
     "execution_count": 118,
     "metadata": {},
     "output_type": "execute_result"
    }
   ],
   "source": [
    "MANUFACTURING_YEAR = year_Pune + year_Delhi + year_Noida + year_Bengluru + year_Chennai + year_Gurgaon + year_Mumbai + year_Hyderabad + year_Kolkata + year_Ahmedabad + year_Chandigarh + year_Jaipur + year_Vadodara + year_Surat + year_Coimbatore + year_Bhopal + year_Ghaziabad\n",
    "len(MANUFACTURING_YEAR)"
   ]
  },
  {
   "cell_type": "code",
   "execution_count": 119,
   "id": "98f5db8d",
   "metadata": {},
   "outputs": [
    {
     "data": {
      "text/plain": [
       "6088"
      ]
     },
     "execution_count": 119,
     "metadata": {},
     "output_type": "execute_result"
    }
   ],
   "source": [
    "MODEL_Name = model_Pune + model_Delhi + model_Noida + model_Bengluru + model_Chennai + model_Gurgaon + model_Mumbai + model_Hyderabad + model_Kolkata + model_Ahmedabad + model_Chandigarh + model_Jaipur + model_Vadodara + model_Surat + model_Coimbatore + model_Bhopal + model_Ghaziabad\n",
    "len(MODEL_Name)"
   ]
  },
  {
   "cell_type": "code",
   "execution_count": 120,
   "id": "4a282c69",
   "metadata": {},
   "outputs": [
    {
     "data": {
      "text/plain": [
       "6088"
      ]
     },
     "execution_count": 120,
     "metadata": {},
     "output_type": "execute_result"
    }
   ],
   "source": [
    "DRIVEN_KiloMeter = driven_km_Pune + driven_km_Delhi + driven_km_Noida + driven_km_Bengluru + driven_km_Chennai + driven_km_Gurgaon + driven_km_Mumbai + driven_km_Hyderabad + driven_km_Kolkata + driven_km_Ahmedabad + driven_km_Chandigarh + driven_km_Jaipur + driven_km_Vadodara + driven_km_Surat + driven_km_Coimbatore + driven_km_Bhopal + driven_km_Ghaziabad\n",
    "len(DRIVEN_KiloMeter)"
   ]
  },
  {
   "cell_type": "code",
   "execution_count": 121,
   "id": "84ee2acb",
   "metadata": {},
   "outputs": [
    {
     "data": {
      "text/plain": [
       "6088"
      ]
     },
     "execution_count": 121,
     "metadata": {},
     "output_type": "execute_result"
    }
   ],
   "source": [
    "FUEL_Type = fuel_Pune + fuel_Delhi + fuel_Noida + fuel_Bengluru + fuel_Chennai + fuel_Gurgaon + fuel_Mumbai + fuel_Hyderabad + fuel_Kolkata + fuel_Ahmedabad + fuel_Chandigarh + fuel_Jaipur + fuel_Vadodara + fuel_Surat + fuel_Coimbatore + fuel_Bhopal + fuel_Ghaziabad\n",
    "len(FUEL_Type)"
   ]
  },
  {
   "cell_type": "code",
   "execution_count": 122,
   "id": "8cf289ff",
   "metadata": {},
   "outputs": [
    {
     "data": {
      "text/plain": [
       "6088"
      ]
     },
     "execution_count": 122,
     "metadata": {},
     "output_type": "execute_result"
    }
   ],
   "source": [
    "OWNERS = no_of_owner_Pune + no_of_owner_Delhi + no_of_owner_Noida + no_of_owner_Bengluru + no_of_owner_Chennai + no_of_owner_Gurgaon + no_of_owner_Mumbai + no_of_owner_Hyderabad + no_of_owner_Kolkata + no_of_owner_Ahmedabad + no_of_owner_Chandigarh + no_of_owner_Jaipur + no_of_owner_Vadodara + no_of_owner_Surat + no_of_owner_Coimbatore + no_of_owner_Bhopal + no_of_owner_Ghaziabad\n",
    "len(OWNERS)"
   ]
  },
  {
   "cell_type": "code",
   "execution_count": 123,
   "id": "3e78b99a",
   "metadata": {},
   "outputs": [
    {
     "data": {
      "text/plain": [
       "6088"
      ]
     },
     "execution_count": 123,
     "metadata": {},
     "output_type": "execute_result"
    }
   ],
   "source": [
    "PRICE = price_Pune + price_Delhi + price_Noida + price_Bengluru + price_Chennai + price_Gurgaon + price_Mumbai + price_Hyderabad + price_Kolkata + price_Ahmedabad + price_Chandigarh + price_Jaipur + price_Vadodara + price_Surat + price_Coimbatore + price_Bhopal + price_Ghaziabad\n",
    "len(PRICE)"
   ]
  },
  {
   "cell_type": "code",
   "execution_count": 124,
   "id": "d121d8b3",
   "metadata": {},
   "outputs": [
    {
     "data": {
      "text/plain": [
       "6088"
      ]
     },
     "execution_count": 124,
     "metadata": {},
     "output_type": "execute_result"
    }
   ],
   "source": [
    "MONTHLY_EMI = monthly_EMI_Pune + monthly_EMI_Delhi + monthly_EMI_Noida + monthly_EMI_Bengluru + monthly_EMI_Chennai + monthly_EMI_Gurgaon + monthly_EMI_Mumbai + monthly_EMI_Hyderabad + monthly_EMI_Kolkata + monthly_EMI_Ahmedabad + monthly_EMI_Chandigarh + monthly_EMI_Jaipur + monthly_EMI_Vadodara + monthly_EMI_Surat + monthly_EMI_Coimbatore + monthly_EMI_Bhopal + monthly_EMI_Ghaziabad\n",
    "len(MONTHLY_EMI)"
   ]
  },
  {
   "cell_type": "code",
   "execution_count": 125,
   "id": "86973803",
   "metadata": {},
   "outputs": [
    {
     "data": {
      "text/plain": [
       "6088"
      ]
     },
     "execution_count": 125,
     "metadata": {},
     "output_type": "execute_result"
    }
   ],
   "source": [
    "LOCATION = location_Pune + location_Delhi + location_Noida + location_Bengluru + location_Chennai + location_Gurgaon + location_Mumbai + location_Hyderabad + location_Kolkata + location_Ahmedabad + location_Chandigarh + location_Jaipur + location_Vadodara + location_Surat + location_Coimbatore + location_Bhopal + location_Ghaziabad\n",
    "len(LOCATION)"
   ]
  },
  {
   "cell_type": "code",
   "execution_count": 126,
   "id": "e0451d9c",
   "metadata": {},
   "outputs": [
    {
     "data": {
      "text/plain": [
       "6088"
      ]
     },
     "execution_count": 126,
     "metadata": {},
     "output_type": "execute_result"
    }
   ],
   "source": [
    "MONTHLY_EMIS = [] #empty list\n",
    "for i in MONTHLY_EMI:\n",
    "    MONTHLY_EMIS.append(i.replace('₹', '').replace('/month', '').replace(',', ''))\n",
    "len(MONTHLY_EMIS)"
   ]
  },
  {
   "cell_type": "code",
   "execution_count": 127,
   "id": "e25bd1c0",
   "metadata": {},
   "outputs": [
    {
     "data": {
      "text/plain": [
       "6088"
      ]
     },
     "execution_count": 127,
     "metadata": {},
     "output_type": "execute_result"
    }
   ],
   "source": [
    "CAR_PRICE = [] #empty list\n",
    "for i in PRICE:\n",
    "    CAR_PRICE.append(i.replace('₹', '').replace(',', ''))\n",
    "len(CAR_PRICE)"
   ]
  },
  {
   "cell_type": "code",
   "execution_count": 128,
   "id": "a0d0b800",
   "metadata": {},
   "outputs": [
    {
     "data": {
      "text/plain": [
       "6088"
      ]
     },
     "execution_count": 128,
     "metadata": {},
     "output_type": "execute_result"
    }
   ],
   "source": [
    "DRIVEN_KILOMETER = [] #empty list\n",
    "for i in DRIVEN_KiloMeter:\n",
    "    DRIVEN_KILOMETER.append(i.replace(' km', '').replace(',', ''))\n",
    "len(DRIVEN_KILOMETER)"
   ]
  },
  {
   "cell_type": "code",
   "execution_count": 131,
   "id": "405181d6",
   "metadata": {},
   "outputs": [
    {
     "data": {
      "text/html": [
       "<div>\n",
       "<style scoped>\n",
       "    .dataframe tbody tr th:only-of-type {\n",
       "        vertical-align: middle;\n",
       "    }\n",
       "\n",
       "    .dataframe tbody tr th {\n",
       "        vertical-align: top;\n",
       "    }\n",
       "\n",
       "    .dataframe thead th {\n",
       "        text-align: right;\n",
       "    }\n",
       "</style>\n",
       "<table border=\"1\" class=\"dataframe\">\n",
       "  <thead>\n",
       "    <tr style=\"text-align: right;\">\n",
       "      <th></th>\n",
       "      <th>BRAND_NAME</th>\n",
       "      <th>MODEL_NAME</th>\n",
       "      <th>MANUFACTURING_YEAR</th>\n",
       "      <th>DRIVEN_KILOMETER</th>\n",
       "      <th>FUEL_TYPE</th>\n",
       "      <th>OWNERS</th>\n",
       "      <th>MONTHLY_EMIS</th>\n",
       "      <th>CAR_PRICE</th>\n",
       "      <th>LOCATION</th>\n",
       "    </tr>\n",
       "  </thead>\n",
       "  <tbody>\n",
       "    <tr>\n",
       "      <th>0</th>\n",
       "      <td>2020 KIA SELTOS</td>\n",
       "      <td>HTK PLUS 1.5 PETROL Manual</td>\n",
       "      <td>2020</td>\n",
       "      <td>19355</td>\n",
       "      <td>Petrol</td>\n",
       "      <td>1st Owner</td>\n",
       "      <td>24997</td>\n",
       "      <td>1278599</td>\n",
       "      <td>Pune</td>\n",
       "    </tr>\n",
       "    <tr>\n",
       "      <th>1</th>\n",
       "      <td>2021 Nissan MAGNITE</td>\n",
       "      <td>XL Turbo CVT</td>\n",
       "      <td>2021</td>\n",
       "      <td>16049</td>\n",
       "      <td>Petrol</td>\n",
       "      <td>1st Owner</td>\n",
       "      <td>18600</td>\n",
       "      <td>951399</td>\n",
       "      <td>Pune</td>\n",
       "    </tr>\n",
       "    <tr>\n",
       "      <th>2</th>\n",
       "      <td>2016 Mercedes Benz CLA Class</td>\n",
       "      <td>CLA 200 CDI SPORT Automatic</td>\n",
       "      <td>2016</td>\n",
       "      <td>19670</td>\n",
       "      <td>Diesel</td>\n",
       "      <td>1st Owner</td>\n",
       "      <td>37986</td>\n",
       "      <td>1942999</td>\n",
       "      <td>Pune</td>\n",
       "    </tr>\n",
       "    <tr>\n",
       "      <th>3</th>\n",
       "      <td>2019 Maruti Ertiga</td>\n",
       "      <td>ZXI Plus SHVS Manual</td>\n",
       "      <td>2019</td>\n",
       "      <td>20233</td>\n",
       "      <td>Petrol</td>\n",
       "      <td>2nd Owner</td>\n",
       "      <td>19689</td>\n",
       "      <td>1007099</td>\n",
       "      <td>Pune</td>\n",
       "    </tr>\n",
       "    <tr>\n",
       "      <th>4</th>\n",
       "      <td>2018 Volkswagen Polo</td>\n",
       "      <td>COMFORTLINE 1.0 PETROL Manual</td>\n",
       "      <td>2018</td>\n",
       "      <td>21612</td>\n",
       "      <td>Petrol</td>\n",
       "      <td>1st Owner</td>\n",
       "      <td>11926</td>\n",
       "      <td>609999</td>\n",
       "      <td>Pune</td>\n",
       "    </tr>\n",
       "    <tr>\n",
       "      <th>...</th>\n",
       "      <td>...</td>\n",
       "      <td>...</td>\n",
       "      <td>...</td>\n",
       "      <td>...</td>\n",
       "      <td>...</td>\n",
       "      <td>...</td>\n",
       "      <td>...</td>\n",
       "      <td>...</td>\n",
       "      <td>...</td>\n",
       "    </tr>\n",
       "    <tr>\n",
       "      <th>6083</th>\n",
       "      <td>2021 Maruti Alto</td>\n",
       "      <td>LXI CNG Manual</td>\n",
       "      <td>2021</td>\n",
       "      <td>26369</td>\n",
       "      <td>Petrol + CNG</td>\n",
       "      <td>1st Owner</td>\n",
       "      <td>9881</td>\n",
       "      <td>505399</td>\n",
       "      <td>Ghaziabad</td>\n",
       "    </tr>\n",
       "    <tr>\n",
       "      <th>6084</th>\n",
       "      <td>2015 Audi Q3</td>\n",
       "      <td>30 TDI MT S EDITION Manual</td>\n",
       "      <td>2015</td>\n",
       "      <td>71423</td>\n",
       "      <td>Diesel</td>\n",
       "      <td>1st Owner</td>\n",
       "      <td>24934</td>\n",
       "      <td>1275399</td>\n",
       "      <td>Ghaziabad</td>\n",
       "    </tr>\n",
       "    <tr>\n",
       "      <th>6085</th>\n",
       "      <td>2015 Maruti Swift</td>\n",
       "      <td>LDI O Manual</td>\n",
       "      <td>2015</td>\n",
       "      <td>68858</td>\n",
       "      <td>Diesel</td>\n",
       "      <td>1st Owner</td>\n",
       "      <td>7028</td>\n",
       "      <td>359499</td>\n",
       "      <td>Ghaziabad</td>\n",
       "    </tr>\n",
       "    <tr>\n",
       "      <th>6086</th>\n",
       "      <td>2014 Maruti Swift</td>\n",
       "      <td>LDI BS IV Manual</td>\n",
       "      <td>2014</td>\n",
       "      <td>47537</td>\n",
       "      <td>Diesel</td>\n",
       "      <td>1st Owner</td>\n",
       "      <td>6387</td>\n",
       "      <td>326699</td>\n",
       "      <td>Ghaziabad</td>\n",
       "    </tr>\n",
       "    <tr>\n",
       "      <th>6087</th>\n",
       "      <td>2015 Hyundai Grand i10</td>\n",
       "      <td>ASTA 1.1 CRDI Manual</td>\n",
       "      <td>2015</td>\n",
       "      <td>89851</td>\n",
       "      <td>Diesel</td>\n",
       "      <td>1st Owner</td>\n",
       "      <td>7138</td>\n",
       "      <td>365099</td>\n",
       "      <td>Ghaziabad</td>\n",
       "    </tr>\n",
       "  </tbody>\n",
       "</table>\n",
       "<p>6088 rows × 9 columns</p>\n",
       "</div>"
      ],
      "text/plain": [
       "                        BRAND_NAME                     MODEL_NAME  \\\n",
       "0                  2020 KIA SELTOS     HTK PLUS 1.5 PETROL Manual   \n",
       "1              2021 Nissan MAGNITE                   XL Turbo CVT   \n",
       "2     2016 Mercedes Benz CLA Class    CLA 200 CDI SPORT Automatic   \n",
       "3               2019 Maruti Ertiga           ZXI Plus SHVS Manual   \n",
       "4             2018 Volkswagen Polo  COMFORTLINE 1.0 PETROL Manual   \n",
       "...                            ...                            ...   \n",
       "6083              2021 Maruti Alto                 LXI CNG Manual   \n",
       "6084                  2015 Audi Q3     30 TDI MT S EDITION Manual   \n",
       "6085             2015 Maruti Swift                   LDI O Manual   \n",
       "6086             2014 Maruti Swift               LDI BS IV Manual   \n",
       "6087        2015 Hyundai Grand i10           ASTA 1.1 CRDI Manual   \n",
       "\n",
       "     MANUFACTURING_YEAR DRIVEN_KILOMETER     FUEL_TYPE     OWNERS  \\\n",
       "0                  2020            19355        Petrol  1st Owner   \n",
       "1                  2021            16049        Petrol  1st Owner   \n",
       "2                  2016            19670        Diesel  1st Owner   \n",
       "3                  2019            20233        Petrol  2nd Owner   \n",
       "4                  2018            21612        Petrol  1st Owner   \n",
       "...                 ...              ...           ...        ...   \n",
       "6083               2021            26369  Petrol + CNG  1st Owner   \n",
       "6084               2015            71423        Diesel  1st Owner   \n",
       "6085               2015            68858        Diesel  1st Owner   \n",
       "6086               2014            47537        Diesel  1st Owner   \n",
       "6087               2015            89851        Diesel  1st Owner   \n",
       "\n",
       "     MONTHLY_EMIS CAR_PRICE   LOCATION  \n",
       "0           24997   1278599       Pune  \n",
       "1           18600    951399       Pune  \n",
       "2           37986   1942999       Pune  \n",
       "3           19689   1007099       Pune  \n",
       "4           11926    609999       Pune  \n",
       "...           ...       ...        ...  \n",
       "6083         9881    505399  Ghaziabad  \n",
       "6084        24934   1275399  Ghaziabad  \n",
       "6085         7028    359499  Ghaziabad  \n",
       "6086         6387    326699  Ghaziabad  \n",
       "6087         7138    365099  Ghaziabad  \n",
       "\n",
       "[6088 rows x 9 columns]"
      ]
     },
     "execution_count": 131,
     "metadata": {},
     "output_type": "execute_result"
    }
   ],
   "source": [
    "# Make data frame of Used car data from cars24.com\n",
    "USED_CARS = pd.DataFrame({})\n",
    "USED_CARS['BRAND_NAME'] = BRAND_Name \n",
    "USED_CARS['MODEL_NAME'] = MODEL_Name\n",
    "USED_CARS['MANUFACTURING_YEAR'] = MANUFACTURING_YEAR\n",
    "USED_CARS['DRIVEN_KILOMETER'] =DRIVEN_KILOMETER \n",
    "USED_CARS['FUEL_TYPE'] = FUEL_Type\n",
    "USED_CARS['OWNERS'] = OWNERS\n",
    "USED_CARS['MONTHLY_EMIS'] = MONTHLY_EMIS\n",
    "USED_CARS['CAR_PRICE'] = CAR_PRICE\n",
    "USED_CARS['LOCATION'] = LOCATION\n",
    "USED_CARS"
   ]
  },
  {
   "cell_type": "code",
   "execution_count": 132,
   "id": "6f7c631c",
   "metadata": {},
   "outputs": [],
   "source": [
    "USED_CARS.to_excel(\"Used_Car_Data.xlsx\")"
   ]
  },
  {
   "cell_type": "code",
   "execution_count": null,
   "id": "2b6e50a7",
   "metadata": {},
   "outputs": [],
   "source": []
  }
 ],
 "metadata": {
  "kernelspec": {
   "display_name": "Python 3 (ipykernel)",
   "language": "python",
   "name": "python3"
  },
  "language_info": {
   "codemirror_mode": {
    "name": "ipython",
    "version": 3
   },
   "file_extension": ".py",
   "mimetype": "text/x-python",
   "name": "python",
   "nbconvert_exporter": "python",
   "pygments_lexer": "ipython3",
   "version": "3.9.7"
  }
 },
 "nbformat": 4,
 "nbformat_minor": 5
}
